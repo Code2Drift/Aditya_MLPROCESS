{
 "cells": [
  {
   "cell_type": "code",
   "execution_count": 2,
   "metadata": {
    "collapsed": true
   },
   "outputs": [],
   "source": [
    "import numpy as np\n",
    "import pandas as pd\n",
    "import matplotlib.pyplot as plt\n",
    "from copy import deepcopy\n",
    "import seaborn as sns\n",
    "from imblearn.over_sampling import RandomOverSampler\n",
    "import yaml\n",
    "import os\n",
    "import sys\n",
    "\n",
    "sys.path.append(os.path.join(os.getcwd(), 'src'))\n",
    "import pickle\n",
    "import joblib\n",
    "import src.utils as utils\n",
    "\n",
    "import numpy as np\n",
    "import pandas as pd\n",
    "import matplotlib.pyplot as plt\n",
    "from copy import deepcopy\n",
    "import seaborn as sns\n",
    "from imblearn.over_sampling import RandomOverSampler\n",
    "import yaml\n",
    "import pickle\n",
    "import joblib\n",
    "import os\n",
    "import src.utils as utils\n",
    "import importlib\n",
    "importlib.reload(utils)\n",
    "\n",
    "## load configuration file\n",
    "with open(\"config.yaml\", \"r\") as f:\n",
    "    config = yaml.safe_load(f)\n",
    "root_path = os.getcwd()\n",
    "\n",
    "## import metrics dependencies\n",
    "\n",
    "from sklearn.model_selection import cross_val_predict, GridSearchCV\n",
    "from sklearn.metrics import balanced_accuracy_score, roc_auc_score, roc_curve, auc\n",
    "from sklearn.metrics import precision_score, recall_score, classification_report\n",
    "from sklearn.metrics import confusion_matrix, make_scorer, ConfusionMatrixDisplay\n",
    "from sklearn.metrics import precision_recall_curve\n",
    "from copy import deepcopy\n",
    "from xgboost import XGBClassifier\n",
    "from sklearn.linear_model import LogisticRegression\n",
    "from sklearn.neighbors import KNeighborsClassifier\n"
   ]
  },
  {
   "cell_type": "code",
   "execution_count": null,
   "outputs": [],
   "source": [
    "## load constant variables\n",
    "TARGET_COL = config['data_source']['target_col']\n",
    "TEST_SZ = config['data_source']['test_size']\n",
    "SEED_ST = config['data_source']['random_state']\n",
    "NUM_COLS = config['data_source']['num_cols']\n",
    "CAT_COLS = config['data_source']['cat_cols']\n",
    "CORR_COLS = config['data_source']['corr_cols']\n",
    "\n",
    "## data\n",
    "X_TRAIN_PATH = config['processed_files']['X_train']\n",
    "X_TEST_PATH = config['processed_files']['X_test']\n",
    "X_VALID_PATH = config['processed_files']['X_valid']\n",
    "y_TRAIN_PATH = config['processed_files']['y_train']\n",
    "y_TEST_PATH = config['processed_files']['y_test']\n",
    "y_VALID_PATH = config['processed_files']['y_valid']\n",
    "X_TRAIN_ROS_PATH = config['ROS_file']['X_train']\n",
    "y_TRAIN_ROS_PATH = config['ROS_file']['y_train']\n",
    "\n",
    "## Desirialize Pickle Data\n",
    "var_name = [\"X_train_prep\", \"X_test_prep\", \"X_valid_prep\", \"y_train_prep\", \"y_test_prep\", \"y_valid_prep\", \"X_train_ros\", \"y_train_ros\"]\n",
    "stock_list = [X_TRAIN_PATH, X_TEST_PATH, X_VALID_PATH, y_TRAIN_PATH, y_TEST_PATH, y_VALID_PATH, X_TRAIN_ROS_PATH, y_TRAIN_ROS_PATH]\n",
    "for var_name, path in zip(var_name, stock_list):\n",
    "    globals()[var_name] = utils.deserialize_data(path)"
   ],
   "metadata": {
    "collapsed": false
   }
  },
  {
   "cell_type": "code",
   "execution_count": null,
   "outputs": [],
   "source": [],
   "metadata": {
    "collapsed": false
   }
  }
 ],
 "metadata": {
  "kernelspec": {
   "display_name": "Python 3",
   "language": "python",
   "name": "python3"
  },
  "language_info": {
   "codemirror_mode": {
    "name": "ipython",
    "version": 2
   },
   "file_extension": ".py",
   "mimetype": "text/x-python",
   "name": "python",
   "nbconvert_exporter": "python",
   "pygments_lexer": "ipython2",
   "version": "2.7.6"
  }
 },
 "nbformat": 4,
 "nbformat_minor": 0
}
