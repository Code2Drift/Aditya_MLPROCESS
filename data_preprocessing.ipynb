{
 "cells": [
  {
   "cell_type": "code",
   "execution_count": 32,
   "metadata": {
    "collapsed": true
   },
   "outputs": [],
   "source": [
    "import numpy as np\n",
    "import pandas as pd\n",
    "import matplotlib.pyplot as plt\n",
    "from copy import deepcopy\n",
    "import seaborn as sns\n",
    "from imblearn.over_sampling import RandomOverSampler\n",
    "import yaml\n",
    "import os\n",
    "import sys\n",
    "sys.path.append(os.path.join(os.getcwd(), 'src'))\n",
    "import pickle\n",
    "import joblib\n",
    "import src.utils as utils"
   ]
  },
  {
   "cell_type": "code",
   "execution_count": 33,
   "outputs": [],
   "source": [
    "## load configuration file\n",
    "with open(\"config.yaml\", \"r\") as f:\n",
    "    config = yaml.safe_load(f)\n",
    "root_path = os.getcwd()\n",
    "\n",
    "## load constant variables\n",
    "TARGET_COL = config['data_source']['target_col']\n",
    "TEST_SZ = config['data_source']['test_size']\n",
    "SEED_ST = config['data_source']['random_state']\n",
    "NUM_COLS = config['data_source']['num_cols']\n",
    "CAT_COLS = config['data_source']['cat_cols']\n",
    "CORR_COLS = config['data_source']['corr_cols']\n",
    "X_TRAIN_PATH = config['pickle_path']['X_train']\n",
    "X_TEST_PATH = config['pickle_path']['X_test']\n",
    "X_VALID_PATH = config['pickle_path']['X_valid']\n",
    "y_TRAIN_PATH = config['pickle_path']['y_train']\n",
    "y_TEST_PATH = config['pickle_path']['y_test']\n",
    "y_VALID_PATH = config['pickle_path']['y_valid']\n",
    "\n",
    "## Desirialize Pickle Data\n",
    "var_name = [\"X_train\", \"X_test\", \"X_valid\", \"y_train\", \"y_test\", \"y_valid\"]\n",
    "stock_list = [X_TRAIN_PATH, X_TEST_PATH, X_VALID_PATH, y_TRAIN_PATH, y_TEST_PATH, y_VALID_PATH]\n",
    "for var_name, path in zip(var_name, stock_list):\n",
    "    globals()[var_name] = utils.deserialize_data(path)"
   ],
   "metadata": {
    "collapsed": false
   }
  },
  {
   "cell_type": "code",
   "execution_count": 34,
   "outputs": [
    {
     "name": "stdout",
     "output_type": "stream",
     "text": [
      "Features train shape:(26064, 11)\n",
      "\n",
      "Features columns:Index(['person_age', 'person_income', 'person_home_ownership',\n",
      "       'person_emp_length', 'loan_intent', 'loan_grade', 'loan_amnt',\n",
      "       'loan_int_rate', 'loan_percent_income', 'cb_person_default_on_file',\n",
      "       'cb_person_cred_hist_length'],\n",
      "      dtype='object')\n"
     ]
    },
    {
     "data": {
      "text/plain": "       person_age  person_income person_home_ownership  person_emp_length  \\\n29762          45          37500              MORTGAGE                1.0   \n2714           25          50000                  RENT                5.0   \n50             24          78000                  RENT                4.0   \n28458          31          78504                  RENT                2.0   \n3674           26          14000                  RENT                2.0   \n\n             loan_intent loan_grade  loan_amnt  loan_int_rate  \\\n29762  DEBTCONSOLIDATION          B       5000          11.49   \n2714            PERSONAL          A      12000           7.88   \n50     DEBTCONSOLIDATION          D      30000            NaN   \n28458          EDUCATION          C      10000          11.41   \n3674             VENTURE          B       4000            NaN   \n\n       loan_percent_income cb_person_default_on_file  \\\n29762                 0.13                         N   \n2714                  0.24                         N   \n50                    0.38                         Y   \n28458                 0.13                         N   \n3674                  0.29                         N   \n\n       cb_person_cred_hist_length  \n29762                          16  \n2714                            2  \n50                              4  \n28458                           7  \n3674                            3  ",
      "text/html": "<div>\n<style scoped>\n    .dataframe tbody tr th:only-of-type {\n        vertical-align: middle;\n    }\n\n    .dataframe tbody tr th {\n        vertical-align: top;\n    }\n\n    .dataframe thead th {\n        text-align: right;\n    }\n</style>\n<table border=\"1\" class=\"dataframe\">\n  <thead>\n    <tr style=\"text-align: right;\">\n      <th></th>\n      <th>person_age</th>\n      <th>person_income</th>\n      <th>person_home_ownership</th>\n      <th>person_emp_length</th>\n      <th>loan_intent</th>\n      <th>loan_grade</th>\n      <th>loan_amnt</th>\n      <th>loan_int_rate</th>\n      <th>loan_percent_income</th>\n      <th>cb_person_default_on_file</th>\n      <th>cb_person_cred_hist_length</th>\n    </tr>\n  </thead>\n  <tbody>\n    <tr>\n      <th>29762</th>\n      <td>45</td>\n      <td>37500</td>\n      <td>MORTGAGE</td>\n      <td>1.0</td>\n      <td>DEBTCONSOLIDATION</td>\n      <td>B</td>\n      <td>5000</td>\n      <td>11.49</td>\n      <td>0.13</td>\n      <td>N</td>\n      <td>16</td>\n    </tr>\n    <tr>\n      <th>2714</th>\n      <td>25</td>\n      <td>50000</td>\n      <td>RENT</td>\n      <td>5.0</td>\n      <td>PERSONAL</td>\n      <td>A</td>\n      <td>12000</td>\n      <td>7.88</td>\n      <td>0.24</td>\n      <td>N</td>\n      <td>2</td>\n    </tr>\n    <tr>\n      <th>50</th>\n      <td>24</td>\n      <td>78000</td>\n      <td>RENT</td>\n      <td>4.0</td>\n      <td>DEBTCONSOLIDATION</td>\n      <td>D</td>\n      <td>30000</td>\n      <td>NaN</td>\n      <td>0.38</td>\n      <td>Y</td>\n      <td>4</td>\n    </tr>\n    <tr>\n      <th>28458</th>\n      <td>31</td>\n      <td>78504</td>\n      <td>RENT</td>\n      <td>2.0</td>\n      <td>EDUCATION</td>\n      <td>C</td>\n      <td>10000</td>\n      <td>11.41</td>\n      <td>0.13</td>\n      <td>N</td>\n      <td>7</td>\n    </tr>\n    <tr>\n      <th>3674</th>\n      <td>26</td>\n      <td>14000</td>\n      <td>RENT</td>\n      <td>2.0</td>\n      <td>VENTURE</td>\n      <td>B</td>\n      <td>4000</td>\n      <td>NaN</td>\n      <td>0.29</td>\n      <td>N</td>\n      <td>3</td>\n    </tr>\n  </tbody>\n</table>\n</div>"
     },
     "execution_count": 34,
     "metadata": {},
     "output_type": "execute_result"
    }
   ],
   "source": [
    "\"\"\"Testing Desirialize\"\"\"\n",
    "print(f\"Features train shape:{X_train.shape}\")\n",
    "print(f\"\\nFeatures columns:{X_train.columns}\")\n",
    "X_train.head()"
   ],
   "metadata": {
    "collapsed": false
   }
  },
  {
   "cell_type": "code",
   "execution_count": 35,
   "outputs": [
    {
     "name": "stdout",
     "output_type": "stream",
     "text": [
      "drop_duplicate_data: Parameters have been validated\n",
      "\n",
      "drop_duplicate_data: data shape before dropping :        person_age  person_income person_home_ownership  person_emp_length  \\\n",
      "29762          45          37500              MORTGAGE                1.0   \n",
      "2714           25          50000                  RENT                5.0   \n",
      "50             24          78000                  RENT                4.0   \n",
      "28458          31          78504                  RENT                2.0   \n",
      "3674           26          14000                  RENT                2.0   \n",
      "...           ...            ...                   ...                ...   \n",
      "7647           22          47000                  RENT                3.0   \n",
      "1120           22          40000                  RENT                1.0   \n",
      "19531          27          34000              MORTGAGE               12.0   \n",
      "5581           26          74500                  RENT                8.0   \n",
      "615            22          44000                  RENT                2.0   \n",
      "\n",
      "             loan_intent loan_grade  loan_amnt  loan_int_rate  \\\n",
      "29762  DEBTCONSOLIDATION          B       5000          11.49   \n",
      "2714            PERSONAL          A      12000           7.88   \n",
      "50     DEBTCONSOLIDATION          D      30000            NaN   \n",
      "28458          EDUCATION          C      10000          11.41   \n",
      "3674             VENTURE          B       4000            NaN   \n",
      "...                  ...        ...        ...            ...   \n",
      "7647   DEBTCONSOLIDATION          B       6850          10.65   \n",
      "1120   DEBTCONSOLIDATION          B      17000          10.65   \n",
      "19531            VENTURE          C      10625          13.47   \n",
      "5581             VENTURE          B       5000          11.36   \n",
      "615            EDUCATION          E      20000          15.68   \n",
      "\n",
      "       loan_percent_income cb_person_default_on_file  \\\n",
      "29762                 0.13                         N   \n",
      "2714                  0.24                         N   \n",
      "50                    0.38                         Y   \n",
      "28458                 0.13                         N   \n",
      "3674                  0.29                         N   \n",
      "...                    ...                       ...   \n",
      "7647                  0.15                         N   \n",
      "1120                  0.42                         N   \n",
      "19531                 0.31                         Y   \n",
      "5581                  0.07                         N   \n",
      "615                   0.45                         N   \n",
      "\n",
      "       cb_person_cred_hist_length  \n",
      "29762                          16  \n",
      "2714                            2  \n",
      "50                              4  \n",
      "28458                           7  \n",
      "3674                            3  \n",
      "...                           ...  \n",
      "7647                            4  \n",
      "1120                            4  \n",
      "19531                          10  \n",
      "5581                            2  \n",
      "615                             4  \n",
      "\n",
      "[26064 rows x 11 columns]\n",
      "\n",
      "drop_duplicate_data: duplicated data have the following shape : (110, 11)\n",
      "\n",
      "drop_duplicate_data: data shape have after dropping should be : (25954, 11)\n",
      "\n",
      "Data shape after dropping duplicates are: (25954, 11)\n"
     ]
    }
   ],
   "source": [
    "X_train, y_train = utils.drop_duplicate_data(X_train, y_train)"
   ],
   "metadata": {
    "collapsed": false
   }
  },
  {
   "cell_type": "code",
   "execution_count": 36,
   "outputs": [
    {
     "name": "stdout",
     "output_type": "stream",
     "text": [
      "['person_age', 'person_income', 'person_emp_length', 'loan_amnt', 'loan_int_rate', 'loan_percent_income', 'cb_person_cred_hist_length']\n"
     ]
    }
   ],
   "source": [
    "subset_data = X_train.select_dtypes(include=np.number).columns.tolist()\n",
    "print(subset_data)"
   ],
   "metadata": {
    "collapsed": false
   }
  },
  {
   "cell_type": "code",
   "execution_count": 39,
   "outputs": [
    {
     "ename": "AttributeError",
     "evalue": "module 'src.utils' has no attribute 'median_imputation'",
     "output_type": "error",
     "traceback": [
      "\u001B[1;31m---------------------------------------------------------------------------\u001B[0m",
      "\u001B[1;31mAttributeError\u001B[0m                            Traceback (most recent call last)",
      "Cell \u001B[1;32mIn[39], line 1\u001B[0m\n\u001B[1;32m----> 1\u001B[0m subset_data \u001B[38;5;241m=\u001B[39m \u001B[43mutils\u001B[49m\u001B[38;5;241;43m.\u001B[39;49m\u001B[43mmedian_imputation\u001B[49m(X_train, subset_data\u001B[38;5;241m=\u001B[39msubset_data, fit\u001B[38;5;241m=\u001B[39m\u001B[38;5;28;01mTrue\u001B[39;00m)\n",
      "\u001B[1;31mAttributeError\u001B[0m: module 'src.utils' has no attribute 'median_imputation'"
     ]
    }
   ],
   "source": [
    "subset_data = utils.median_imputation(X_train, subset_data=subset_data, fit=True)"
   ],
   "metadata": {
    "collapsed": false
   }
  },
  {
   "cell_type": "code",
   "execution_count": null,
   "outputs": [],
   "source": [],
   "metadata": {
    "collapsed": false
   }
  }
 ],
 "metadata": {
  "kernelspec": {
   "display_name": "Python 3",
   "language": "python",
   "name": "python3"
  },
  "language_info": {
   "codemirror_mode": {
    "name": "ipython",
    "version": 2
   },
   "file_extension": ".py",
   "mimetype": "text/x-python",
   "name": "python",
   "nbconvert_exporter": "python",
   "pygments_lexer": "ipython2",
   "version": "2.7.6"
  }
 },
 "nbformat": 4,
 "nbformat_minor": 0
}
