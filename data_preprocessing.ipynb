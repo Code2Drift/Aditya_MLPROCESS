{
 "cells": [
  {
   "cell_type": "code",
   "execution_count": 1,
   "metadata": {
    "collapsed": true
   },
   "outputs": [],
   "source": [
    "import numpy as np\n",
    "import pandas as pd\n",
    "import matplotlib.pyplot as plt\n",
    "from copy import deepcopy\n",
    "import seaborn as sns\n",
    "from imblearn.over_sampling import RandomOverSampler\n",
    "import yaml\n",
    "import os\n",
    "import sys\n",
    "sys.path.append(os.path.join(os.getcwd(), 'src'))\n",
    "import pickle\n",
    "import joblib\n",
    "import src.utils as utils"
   ]
  },
  {
   "cell_type": "code",
   "execution_count": 2,
   "outputs": [],
   "source": [
    "## load configuration file\n",
    "with open(\"config.yaml\", \"r\") as f:\n",
    "    config = yaml.safe_load(f)\n",
    "root_path = os.getcwd()\n",
    "\n",
    "## load constant variables\n",
    "TARGET_COL = config['data_source']['target_col']\n",
    "TEST_SZ = config['data_source']['test_size']\n",
    "SEED_ST = config['data_source']['random_state']\n",
    "NUM_COLS = config['data_source']['num_cols']\n",
    "CAT_COLS = config['data_source']['cat_cols']\n",
    "CORR_COLS = config['data_source']['corr_cols']\n",
    "X_TRAIN_PATH = config['pickle_path']['X_train']\n",
    "X_TEST_PATH = config['pickle_path']['X_test']\n",
    "X_VALID_PATH = config['pickle_path']['X_valid']\n",
    "y_TRAIN_PATH = config['pickle_path']['y_train']\n",
    "y_TEST_PATH = config['pickle_path']['y_test']\n",
    "y_VALID_PATH = config['pickle_path']['y_valid']\n",
    "\n",
    "## Desirialize Pickle Data\n",
    "var_name = [\"X_train\", \"X_test\", \"X_valid\", \"y_train\", \"y_test\", \"y_valid\"]\n",
    "stock_list = [X_TRAIN_PATH, X_TEST_PATH, X_VALID_PATH, y_TRAIN_PATH, y_TEST_PATH, y_VALID_PATH]\n",
    "for var_name, path in zip(var_name, stock_list):\n",
    "    globals()[var_name] = utils.deserialize_data(path)"
   ],
   "metadata": {
    "collapsed": false
   }
  },
  {
   "cell_type": "code",
   "execution_count": 3,
   "outputs": [
    {
     "name": "stdout",
     "output_type": "stream",
     "text": [
      "Features train shape:(26064, 11)\n",
      "\n",
      "Features columns:Index(['person_age', 'person_income', 'person_home_ownership',\n",
      "       'person_emp_length', 'loan_intent', 'loan_grade', 'loan_amnt',\n",
      "       'loan_int_rate', 'loan_percent_income', 'cb_person_default_on_file',\n",
      "       'cb_person_cred_hist_length'],\n",
      "      dtype='object')\n"
     ]
    },
    {
     "data": {
      "text/plain": "       person_age  person_income person_home_ownership  person_emp_length  \\\n29762          45          37500              MORTGAGE                1.0   \n2714           25          50000                  RENT                5.0   \n50             24          78000                  RENT                4.0   \n28458          31          78504                  RENT                2.0   \n3674           26          14000                  RENT                2.0   \n\n             loan_intent loan_grade  loan_amnt  loan_int_rate  \\\n29762  DEBTCONSOLIDATION          B       5000          11.49   \n2714            PERSONAL          A      12000           7.88   \n50     DEBTCONSOLIDATION          D      30000            NaN   \n28458          EDUCATION          C      10000          11.41   \n3674             VENTURE          B       4000            NaN   \n\n       loan_percent_income cb_person_default_on_file  \\\n29762                 0.13                         N   \n2714                  0.24                         N   \n50                    0.38                         Y   \n28458                 0.13                         N   \n3674                  0.29                         N   \n\n       cb_person_cred_hist_length  \n29762                          16  \n2714                            2  \n50                              4  \n28458                           7  \n3674                            3  ",
      "text/html": "<div>\n<style scoped>\n    .dataframe tbody tr th:only-of-type {\n        vertical-align: middle;\n    }\n\n    .dataframe tbody tr th {\n        vertical-align: top;\n    }\n\n    .dataframe thead th {\n        text-align: right;\n    }\n</style>\n<table border=\"1\" class=\"dataframe\">\n  <thead>\n    <tr style=\"text-align: right;\">\n      <th></th>\n      <th>person_age</th>\n      <th>person_income</th>\n      <th>person_home_ownership</th>\n      <th>person_emp_length</th>\n      <th>loan_intent</th>\n      <th>loan_grade</th>\n      <th>loan_amnt</th>\n      <th>loan_int_rate</th>\n      <th>loan_percent_income</th>\n      <th>cb_person_default_on_file</th>\n      <th>cb_person_cred_hist_length</th>\n    </tr>\n  </thead>\n  <tbody>\n    <tr>\n      <th>29762</th>\n      <td>45</td>\n      <td>37500</td>\n      <td>MORTGAGE</td>\n      <td>1.0</td>\n      <td>DEBTCONSOLIDATION</td>\n      <td>B</td>\n      <td>5000</td>\n      <td>11.49</td>\n      <td>0.13</td>\n      <td>N</td>\n      <td>16</td>\n    </tr>\n    <tr>\n      <th>2714</th>\n      <td>25</td>\n      <td>50000</td>\n      <td>RENT</td>\n      <td>5.0</td>\n      <td>PERSONAL</td>\n      <td>A</td>\n      <td>12000</td>\n      <td>7.88</td>\n      <td>0.24</td>\n      <td>N</td>\n      <td>2</td>\n    </tr>\n    <tr>\n      <th>50</th>\n      <td>24</td>\n      <td>78000</td>\n      <td>RENT</td>\n      <td>4.0</td>\n      <td>DEBTCONSOLIDATION</td>\n      <td>D</td>\n      <td>30000</td>\n      <td>NaN</td>\n      <td>0.38</td>\n      <td>Y</td>\n      <td>4</td>\n    </tr>\n    <tr>\n      <th>28458</th>\n      <td>31</td>\n      <td>78504</td>\n      <td>RENT</td>\n      <td>2.0</td>\n      <td>EDUCATION</td>\n      <td>C</td>\n      <td>10000</td>\n      <td>11.41</td>\n      <td>0.13</td>\n      <td>N</td>\n      <td>7</td>\n    </tr>\n    <tr>\n      <th>3674</th>\n      <td>26</td>\n      <td>14000</td>\n      <td>RENT</td>\n      <td>2.0</td>\n      <td>VENTURE</td>\n      <td>B</td>\n      <td>4000</td>\n      <td>NaN</td>\n      <td>0.29</td>\n      <td>N</td>\n      <td>3</td>\n    </tr>\n  </tbody>\n</table>\n</div>"
     },
     "execution_count": 3,
     "metadata": {},
     "output_type": "execute_result"
    }
   ],
   "source": [
    "\"\"\"Testing Desirialize\"\"\"\n",
    "print(f\"Features train shape:{X_train.shape}\")\n",
    "print(f\"\\nFeatures columns:{X_train.columns}\")\n",
    "X_train.head()"
   ],
   "metadata": {
    "collapsed": false
   }
  },
  {
   "cell_type": "code",
   "execution_count": 4,
   "outputs": [
    {
     "name": "stdout",
     "output_type": "stream",
     "text": [
      "drop_duplicate_data: Parameters have been validated\n",
      "\n",
      "drop_duplicate_data: data shape before dropping : (26064, 11)\n",
      "\n",
      "drop_duplicate_data: duplicated data have the following shape : (110, 11)\n",
      "\n",
      "drop_duplicate_data: data shape have after dropping should be : (25954, 11)\n",
      "\n",
      "Data shape after dropping duplicates are: (25954, 11)\n"
     ]
    }
   ],
   "source": [
    "X_train, y_train = utils.drop_duplicate_data(X_train, y_train)"
   ],
   "metadata": {
    "collapsed": false
   }
  },
  {
   "cell_type": "code",
   "execution_count": 5,
   "outputs": [
    {
     "name": "stdout",
     "output_type": "stream",
     "text": [
      "['person_age', 'person_income', 'person_emp_length', 'loan_amnt', 'loan_int_rate', 'loan_percent_income', 'cb_person_cred_hist_length']\n"
     ]
    }
   ],
   "source": [
    "subset_data = X_train.select_dtypes(include=np.number).columns.tolist()\n",
    "print(subset_data)"
   ],
   "metadata": {
    "collapsed": false
   }
  },
  {
   "cell_type": "code",
   "execution_count": 6,
   "outputs": [
    {
     "name": "stdout",
     "output_type": "stream",
     "text": [
      "Fungsi median_imputation: parameter telah divalidasi.\n",
      "Fungsi median_imputation: proses fitting telah selesai, berikut hasilnya {'person_age': 26.0, 'person_income': 55000.0, 'person_emp_length': 4.0, 'loan_amnt': 8000.0, 'loan_int_rate': 10.99, 'loan_percent_income': 0.15, 'cb_person_cred_hist_length': 4.0}.\n"
     ]
    }
   ],
   "source": [
    "subset_data = utils.median_imputation(X_train, subset_data, fit=True)"
   ],
   "metadata": {
    "collapsed": false
   }
  },
  {
   "cell_type": "code",
   "execution_count": 7,
   "outputs": [
    {
     "name": "stdout",
     "output_type": "stream",
     "text": [
      "Fungsi median_imputation: parameter telah divalidasi.\n",
      "Fungsi median_imputation: informasi count na sebelum dilakukan imputasi:\n",
      "person_age                       0\n",
      "person_income                    0\n",
      "person_home_ownership            0\n",
      "person_emp_length              707\n",
      "loan_intent                      0\n",
      "loan_grade                       0\n",
      "loan_amnt                        0\n",
      "loan_int_rate                 2474\n",
      "loan_percent_income              0\n",
      "cb_person_default_on_file        0\n",
      "cb_person_cred_hist_length       0\n",
      "dtype: int64\n",
      "\n",
      "Fungsi median_imputation: informasi count na setelah dilakukan imputasi:\n",
      "person_age                    0\n",
      "person_income                 0\n",
      "person_home_ownership         0\n",
      "person_emp_length             0\n",
      "loan_intent                   0\n",
      "loan_grade                    0\n",
      "loan_amnt                     0\n",
      "loan_int_rate                 0\n",
      "loan_percent_income           0\n",
      "cb_person_default_on_file     0\n",
      "cb_person_cred_hist_length    0\n",
      "dtype: int64\n",
      "\n"
     ]
    }
   ],
   "source": [
    "X_train = utils.median_imputation(X_train, subset_data, False)"
   ],
   "metadata": {
    "collapsed": false
   }
  },
  {
   "cell_type": "code",
   "execution_count": 8,
   "outputs": [
    {
     "name": "stdout",
     "output_type": "stream",
     "text": [
      "Fungsi median_imputation: parameter telah divalidasi.\n",
      "Fungsi median_imputation: informasi count na sebelum dilakukan imputasi:\n",
      "person_age                      0\n",
      "person_income                   0\n",
      "person_home_ownership           0\n",
      "person_emp_length              90\n",
      "loan_intent                     0\n",
      "loan_grade                      0\n",
      "loan_amnt                       0\n",
      "loan_int_rate                 312\n",
      "loan_percent_income             0\n",
      "cb_person_default_on_file       0\n",
      "cb_person_cred_hist_length      0\n",
      "dtype: int64\n",
      "\n",
      "Fungsi median_imputation: informasi count na setelah dilakukan imputasi:\n",
      "person_age                    0\n",
      "person_income                 0\n",
      "person_home_ownership         0\n",
      "person_emp_length             0\n",
      "loan_intent                   0\n",
      "loan_grade                    0\n",
      "loan_amnt                     0\n",
      "loan_int_rate                 0\n",
      "loan_percent_income           0\n",
      "cb_person_default_on_file     0\n",
      "cb_person_cred_hist_length    0\n",
      "dtype: int64\n",
      "\n"
     ]
    }
   ],
   "source": [
    "X_test = utils.median_imputation(X_test, subset_data, False)"
   ],
   "metadata": {
    "collapsed": false
   }
  },
  {
   "cell_type": "code",
   "execution_count": 9,
   "outputs": [
    {
     "name": "stdout",
     "output_type": "stream",
     "text": [
      "Fungsi median_imputation: parameter telah divalidasi.\n",
      "Fungsi median_imputation: informasi count na sebelum dilakukan imputasi:\n",
      "person_age                      0\n",
      "person_income                   0\n",
      "person_home_ownership           0\n",
      "person_emp_length              93\n",
      "loan_intent                     0\n",
      "loan_grade                      0\n",
      "loan_amnt                       0\n",
      "loan_int_rate                 319\n",
      "loan_percent_income             0\n",
      "cb_person_default_on_file       0\n",
      "cb_person_cred_hist_length      0\n",
      "dtype: int64\n",
      "\n",
      "Fungsi median_imputation: informasi count na setelah dilakukan imputasi:\n",
      "person_age                    0\n",
      "person_income                 0\n",
      "person_home_ownership         0\n",
      "person_emp_length             0\n",
      "loan_intent                   0\n",
      "loan_grade                    0\n",
      "loan_amnt                     0\n",
      "loan_int_rate                 0\n",
      "loan_percent_income           0\n",
      "cb_person_default_on_file     0\n",
      "cb_person_cred_hist_length    0\n",
      "dtype: int64\n",
      "\n"
     ]
    }
   ],
   "source": [
    "X_valid = utils.median_imputation(X_valid, subset_data, False)"
   ],
   "metadata": {
    "collapsed": false
   }
  },
  {
   "cell_type": "code",
   "execution_count": null,
   "outputs": [],
   "source": [],
   "metadata": {
    "collapsed": false
   }
  }
 ],
 "metadata": {
  "kernelspec": {
   "display_name": "Python 3",
   "language": "python",
   "name": "python3"
  },
  "language_info": {
   "codemirror_mode": {
    "name": "ipython",
    "version": 2
   },
   "file_extension": ".py",
   "mimetype": "text/x-python",
   "name": "python",
   "nbconvert_exporter": "python",
   "pygments_lexer": "ipython2",
   "version": "2.7.6"
  }
 },
 "nbformat": 4,
 "nbformat_minor": 0
}
