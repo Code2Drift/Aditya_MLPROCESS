{
 "cells": [
  {
   "cell_type": "code",
   "execution_count": 1,
   "metadata": {
    "collapsed": true
   },
   "outputs": [],
   "source": [
    "####\n",
    "import numpy as np\n",
    "import pandas as pd\n",
    "import matplotlib.pyplot as plt\n",
    "from copy import deepcopy\n",
    "import seaborn as sns\n",
    "from imblearn.over_sampling import RandomOverSampler\n",
    "import yaml\n",
    "import pickle\n",
    "import joblib\n",
    "import os\n",
    "import src.utils as utils\n",
    "import importlib\n",
    "importlib.reload(utils)\n",
    "\n",
    "## load configuration file\n",
    "with open(\"config.yaml\", \"r\") as f:\n",
    "    config = yaml.safe_load(f)\n",
    "root_path = os.getcwd()"
   ]
  },
  {
   "cell_type": "code",
   "execution_count": 2,
   "outputs": [],
   "source": [
    "## load constant variables\n",
    "TARGET_COL = config['data_source']['target_col']\n",
    "TEST_SZ = config['data_source']['test_size']\n",
    "SEED_ST = config['data_source']['random_state']\n",
    "NUM_COLS = config['data_source']['num_cols']\n",
    "CAT_COLS = config['data_source']['cat_cols']\n",
    "CORR_COLS = config['data_source']['corr_cols']\n",
    "X_TRAIN_PATH = config['pickle_path']['X_train']\n",
    "X_TEST_PATH = config['pickle_path']['X_test']\n",
    "X_VALID_PATH = config['pickle_path']['X_valid']\n",
    "y_TRAIN_PATH = config['pickle_path']['y_train']\n",
    "y_TEST_PATH = config['pickle_path']['y_test']\n",
    "y_VALID_PATH = config['pickle_path']['y_valid']\n",
    "\n",
    "## Desirialize Pickle Data\n",
    "var_name = [\"X_train\", \"X_test\", \"X_valid\", \"y_train\", \"y_test\", \"y_valid\"]\n",
    "stock_list = [X_TRAIN_PATH, X_TEST_PATH, X_VALID_PATH, y_TRAIN_PATH, y_TEST_PATH, y_VALID_PATH]\n",
    "for var_name, path in zip(var_name, stock_list):\n",
    "    globals()[var_name] = utils.deserialize_data(path)"
   ],
   "metadata": {
    "collapsed": false
   }
  },
  {
   "cell_type": "code",
   "execution_count": 3,
   "outputs": [
    {
     "name": "stdout",
     "output_type": "stream",
     "text": [
      "Features train shape:(26064, 11)\n",
      "\n",
      "Features columns:Index(['person_age', 'person_income', 'person_home_ownership',\n",
      "       'person_emp_length', 'loan_intent', 'loan_grade', 'loan_amnt',\n",
      "       'loan_int_rate', 'loan_percent_income', 'cb_person_default_on_file',\n",
      "       'cb_person_cred_hist_length'],\n",
      "      dtype='object')\n"
     ]
    },
    {
     "data": {
      "text/plain": "       person_age  person_income person_home_ownership  person_emp_length  \\\n29762          45          37500              MORTGAGE                1.0   \n2714           25          50000                  RENT                5.0   \n50             24          78000                  RENT                4.0   \n28458          31          78504                  RENT                2.0   \n3674           26          14000                  RENT                2.0   \n\n             loan_intent loan_grade  loan_amnt  loan_int_rate  \\\n29762  DEBTCONSOLIDATION          B       5000          11.49   \n2714            PERSONAL          A      12000           7.88   \n50     DEBTCONSOLIDATION          D      30000            NaN   \n28458          EDUCATION          C      10000          11.41   \n3674             VENTURE          B       4000            NaN   \n\n       loan_percent_income cb_person_default_on_file  \\\n29762                 0.13                         N   \n2714                  0.24                         N   \n50                    0.38                         Y   \n28458                 0.13                         N   \n3674                  0.29                         N   \n\n       cb_person_cred_hist_length  \n29762                          16  \n2714                            2  \n50                              4  \n28458                           7  \n3674                            3  ",
      "text/html": "<div>\n<style scoped>\n    .dataframe tbody tr th:only-of-type {\n        vertical-align: middle;\n    }\n\n    .dataframe tbody tr th {\n        vertical-align: top;\n    }\n\n    .dataframe thead th {\n        text-align: right;\n    }\n</style>\n<table border=\"1\" class=\"dataframe\">\n  <thead>\n    <tr style=\"text-align: right;\">\n      <th></th>\n      <th>person_age</th>\n      <th>person_income</th>\n      <th>person_home_ownership</th>\n      <th>person_emp_length</th>\n      <th>loan_intent</th>\n      <th>loan_grade</th>\n      <th>loan_amnt</th>\n      <th>loan_int_rate</th>\n      <th>loan_percent_income</th>\n      <th>cb_person_default_on_file</th>\n      <th>cb_person_cred_hist_length</th>\n    </tr>\n  </thead>\n  <tbody>\n    <tr>\n      <th>29762</th>\n      <td>45</td>\n      <td>37500</td>\n      <td>MORTGAGE</td>\n      <td>1.0</td>\n      <td>DEBTCONSOLIDATION</td>\n      <td>B</td>\n      <td>5000</td>\n      <td>11.49</td>\n      <td>0.13</td>\n      <td>N</td>\n      <td>16</td>\n    </tr>\n    <tr>\n      <th>2714</th>\n      <td>25</td>\n      <td>50000</td>\n      <td>RENT</td>\n      <td>5.0</td>\n      <td>PERSONAL</td>\n      <td>A</td>\n      <td>12000</td>\n      <td>7.88</td>\n      <td>0.24</td>\n      <td>N</td>\n      <td>2</td>\n    </tr>\n    <tr>\n      <th>50</th>\n      <td>24</td>\n      <td>78000</td>\n      <td>RENT</td>\n      <td>4.0</td>\n      <td>DEBTCONSOLIDATION</td>\n      <td>D</td>\n      <td>30000</td>\n      <td>NaN</td>\n      <td>0.38</td>\n      <td>Y</td>\n      <td>4</td>\n    </tr>\n    <tr>\n      <th>28458</th>\n      <td>31</td>\n      <td>78504</td>\n      <td>RENT</td>\n      <td>2.0</td>\n      <td>EDUCATION</td>\n      <td>C</td>\n      <td>10000</td>\n      <td>11.41</td>\n      <td>0.13</td>\n      <td>N</td>\n      <td>7</td>\n    </tr>\n    <tr>\n      <th>3674</th>\n      <td>26</td>\n      <td>14000</td>\n      <td>RENT</td>\n      <td>2.0</td>\n      <td>VENTURE</td>\n      <td>B</td>\n      <td>4000</td>\n      <td>NaN</td>\n      <td>0.29</td>\n      <td>N</td>\n      <td>3</td>\n    </tr>\n  </tbody>\n</table>\n</div>"
     },
     "execution_count": 3,
     "metadata": {},
     "output_type": "execute_result"
    }
   ],
   "source": [
    "\"\"\"Testing Desirialize\"\"\"\n",
    "print(f\"Features train shape:{X_train.shape}\")\n",
    "print(f\"\\nFeatures columns:{X_train.columns}\")\n",
    "X_train.head()"
   ],
   "metadata": {
    "collapsed": false
   }
  },
  {
   "cell_type": "code",
   "execution_count": 4,
   "outputs": [
    {
     "name": "stdout",
     "output_type": "stream",
     "text": [
      "drop_duplicate_data: Parameters have been validated\n",
      "\n",
      "drop_duplicate_data: data shape before dropping : (26064, 11)\n",
      "\n",
      "drop_duplicate_data: duplicated data have the following shape : (110, 11)\n",
      "\n",
      "drop_duplicate_data: data shape have after dropping should be : (25954, 11)\n",
      "\n",
      "Data shape after dropping duplicates are: (25954, 11)\n"
     ]
    }
   ],
   "source": [
    "X_train, y_train = utils.drop_duplicate_data(X_train, y_train)"
   ],
   "metadata": {
    "collapsed": false
   }
  },
  {
   "cell_type": "code",
   "execution_count": 5,
   "outputs": [
    {
     "name": "stdout",
     "output_type": "stream",
     "text": [
      "['person_age', 'person_income', 'person_emp_length', 'loan_amnt', 'loan_int_rate', 'loan_percent_income', 'cb_person_cred_hist_length']\n"
     ]
    }
   ],
   "source": [
    "subset_data = X_train.select_dtypes(include=np.number).columns.tolist()\n",
    "print(subset_data)"
   ],
   "metadata": {
    "collapsed": false
   }
  },
  {
   "cell_type": "code",
   "execution_count": 6,
   "outputs": [
    {
     "name": "stdout",
     "output_type": "stream",
     "text": [
      "Fungsi median_imputation: parameter telah divalidasi.\n",
      "Fungsi median_imputation: proses fitting telah selesai, berikut hasilnya {'person_age': 26.0, 'person_income': 55000.0, 'person_emp_length': 4.0, 'loan_amnt': 8000.0, 'loan_int_rate': 10.99, 'loan_percent_income': 0.15, 'cb_person_cred_hist_length': 4.0}.\n"
     ]
    }
   ],
   "source": [
    "subset_data = utils.median_imputation(X_train, subset_data, fit=True)"
   ],
   "metadata": {
    "collapsed": false
   }
  },
  {
   "cell_type": "code",
   "execution_count": 7,
   "outputs": [
    {
     "name": "stdout",
     "output_type": "stream",
     "text": [
      "Fungsi median_imputation: parameter telah divalidasi.\n",
      "Fungsi median_imputation: informasi count na sebelum dilakukan imputasi:\n",
      "person_age                       0\n",
      "person_income                    0\n",
      "person_home_ownership            0\n",
      "person_emp_length              707\n",
      "loan_intent                      0\n",
      "loan_grade                       0\n",
      "loan_amnt                        0\n",
      "loan_int_rate                 2474\n",
      "loan_percent_income              0\n",
      "cb_person_default_on_file        0\n",
      "cb_person_cred_hist_length       0\n",
      "dtype: int64\n",
      "\n",
      "Fungsi median_imputation: informasi count na setelah dilakukan imputasi:\n",
      "person_age                    0\n",
      "person_income                 0\n",
      "person_home_ownership         0\n",
      "person_emp_length             0\n",
      "loan_intent                   0\n",
      "loan_grade                    0\n",
      "loan_amnt                     0\n",
      "loan_int_rate                 0\n",
      "loan_percent_income           0\n",
      "cb_person_default_on_file     0\n",
      "cb_person_cred_hist_length    0\n",
      "dtype: int64\n",
      "\n"
     ]
    }
   ],
   "source": [
    "X_train = utils.median_imputation(X_train, subset_data, False)"
   ],
   "metadata": {
    "collapsed": false
   }
  },
  {
   "cell_type": "code",
   "execution_count": 8,
   "outputs": [
    {
     "name": "stdout",
     "output_type": "stream",
     "text": [
      "Fungsi median_imputation: parameter telah divalidasi.\n",
      "Fungsi median_imputation: informasi count na sebelum dilakukan imputasi:\n",
      "person_age                      0\n",
      "person_income                   0\n",
      "person_home_ownership           0\n",
      "person_emp_length              90\n",
      "loan_intent                     0\n",
      "loan_grade                      0\n",
      "loan_amnt                       0\n",
      "loan_int_rate                 312\n",
      "loan_percent_income             0\n",
      "cb_person_default_on_file       0\n",
      "cb_person_cred_hist_length      0\n",
      "dtype: int64\n",
      "\n",
      "Fungsi median_imputation: informasi count na setelah dilakukan imputasi:\n",
      "person_age                    0\n",
      "person_income                 0\n",
      "person_home_ownership         0\n",
      "person_emp_length             0\n",
      "loan_intent                   0\n",
      "loan_grade                    0\n",
      "loan_amnt                     0\n",
      "loan_int_rate                 0\n",
      "loan_percent_income           0\n",
      "cb_person_default_on_file     0\n",
      "cb_person_cred_hist_length    0\n",
      "dtype: int64\n",
      "\n"
     ]
    }
   ],
   "source": [
    "X_test = utils.median_imputation(X_test, subset_data, False)"
   ],
   "metadata": {
    "collapsed": false
   }
  },
  {
   "cell_type": "code",
   "execution_count": 9,
   "outputs": [
    {
     "name": "stdout",
     "output_type": "stream",
     "text": [
      "Fungsi median_imputation: parameter telah divalidasi.\n",
      "Fungsi median_imputation: informasi count na sebelum dilakukan imputasi:\n",
      "person_age                      0\n",
      "person_income                   0\n",
      "person_home_ownership           0\n",
      "person_emp_length              93\n",
      "loan_intent                     0\n",
      "loan_grade                      0\n",
      "loan_amnt                       0\n",
      "loan_int_rate                 319\n",
      "loan_percent_income             0\n",
      "cb_person_default_on_file       0\n",
      "cb_person_cred_hist_length      0\n",
      "dtype: int64\n",
      "\n",
      "Fungsi median_imputation: informasi count na setelah dilakukan imputasi:\n",
      "person_age                    0\n",
      "person_income                 0\n",
      "person_home_ownership         0\n",
      "person_emp_length             0\n",
      "loan_intent                   0\n",
      "loan_grade                    0\n",
      "loan_amnt                     0\n",
      "loan_int_rate                 0\n",
      "loan_percent_income           0\n",
      "cb_person_default_on_file     0\n",
      "cb_person_cred_hist_length    0\n",
      "dtype: int64\n",
      "\n"
     ]
    }
   ],
   "source": [
    "X_valid = utils.median_imputation(X_valid, subset_data, False)"
   ],
   "metadata": {
    "collapsed": false
   }
  },
  {
   "cell_type": "markdown",
   "source": [
    "## Categorical Encoding"
   ],
   "metadata": {
    "collapsed": false
   }
  },
  {
   "cell_type": "markdown",
   "source": [
    "### X_train"
   ],
   "metadata": {
    "collapsed": false
   }
  },
  {
   "cell_type": "code",
   "execution_count": 10,
   "outputs": [],
   "source": [
    "## unpack OneHotEncoder Path\n",
    "path_home_ownership = config['encoding_path']['home_owner']\n",
    "path_loan_intent = config['encoding_path']['loan_intent']\n",
    "path_loan_grade = config['encoding_path']['loan_grade']\n",
    "path_default_history = config['encoding_path']['record_default']"
   ],
   "metadata": {
    "collapsed": false
   }
  },
  {
   "cell_type": "code",
   "execution_count": 11,
   "outputs": [],
   "source": [
    "## create variable for each categorical columns\n",
    "person_home_ownership, loan_intent, loan_grade, cb_person_defailt_on_file = [], [], [], []\n",
    "cat_list = [person_home_ownership, loan_intent, loan_grade, cb_person_defailt_on_file]\n",
    "\n",
    "for idx in range(len(cat_list)):\n",
    "    cat_list[idx].extend(X_train[CAT_COLS[idx]].to_list())"
   ],
   "metadata": {
    "collapsed": false
   }
  },
  {
   "cell_type": "code",
   "execution_count": 12,
   "outputs": [
    {
     "name": "stdout",
     "output_type": "stream",
     "text": [
      "Fitted Categories are: ['MORTGAGE', 'OTHER', 'OWN', 'RENT']\n"
     ]
    }
   ],
   "source": [
    "ohe_home_ownership = utils.create_onehot_encoder(person_home_ownership, path_home_ownership)"
   ],
   "metadata": {
    "collapsed": false
   }
  },
  {
   "cell_type": "code",
   "execution_count": 13,
   "outputs": [
    {
     "name": "stdout",
     "output_type": "stream",
     "text": [
      "Fitted Categories are: ['DEBTCONSOLIDATION', 'EDUCATION', 'HOMEIMPROVEMENT', 'MEDICAL', 'PERSONAL', 'VENTURE']\n"
     ]
    }
   ],
   "source": [
    "ohe_loan_intent = utils.create_onehot_encoder(loan_intent, path_loan_intent)"
   ],
   "metadata": {
    "collapsed": false
   }
  },
  {
   "cell_type": "code",
   "execution_count": 14,
   "outputs": [
    {
     "name": "stdout",
     "output_type": "stream",
     "text": [
      "Fitted Categories are: ['A', 'B', 'C', 'D', 'E', 'F', 'G']\n"
     ]
    }
   ],
   "source": [
    "ohe_loan_grade = utils.create_onehot_encoder(loan_grade, path_loan_grade)"
   ],
   "metadata": {
    "collapsed": false
   }
  },
  {
   "cell_type": "code",
   "execution_count": 15,
   "outputs": [
    {
     "name": "stdout",
     "output_type": "stream",
     "text": [
      "Fitted Categories are: ['N', 'Y']\n"
     ]
    }
   ],
   "source": [
    "ohe_default_on_file = utils.create_onehot_encoder(cb_person_defailt_on_file, path_default_history)"
   ],
   "metadata": {
    "collapsed": false
   }
  },
  {
   "cell_type": "code",
   "execution_count": 16,
   "outputs": [
    {
     "name": "stdout",
     "output_type": "stream",
     "text": [
      "ohe_transform: params have been validated.\n",
      "\n",
      "ohe_transform: The list of column names before coding is ['person_age', 'person_income', 'person_home_ownership', 'person_emp_length', 'loan_intent', 'loan_grade', 'loan_amnt', 'loan_int_rate', 'loan_percent_income', 'cb_person_default_on_file', 'cb_person_cred_hist_length'].\n",
      "\n",
      "ohe_transform: The list of column names after coding is ['person_age', 'person_income', 'person_emp_length', 'loan_intent', 'loan_grade', 'loan_amnt', 'loan_int_rate', 'loan_percent_income', 'cb_person_default_on_file', 'cb_person_cred_hist_length', 'home_ownership_MORTGAGE', 'home_ownership_OTHER', 'home_ownership_OWN', 'home_ownership_RENT'].\n"
     ]
    },
    {
     "name": "stderr",
     "output_type": "stream",
     "text": [
      "E:\\01_Programming\\Py\\Aditya_MLPROCESS\\Aditya_venv\\Lib\\site-packages\\sklearn\\base.py:486: UserWarning: X has feature names, but OneHotEncoder was fitted without feature names\n",
      "  warnings.warn(\n"
     ]
    },
    {
     "data": {
      "text/plain": "       person_age  person_income  person_emp_length        loan_intent  \\\n29762          45          37500                1.0  DEBTCONSOLIDATION   \n2714           25          50000                5.0           PERSONAL   \n50             24          78000                4.0  DEBTCONSOLIDATION   \n28458          31          78504                2.0          EDUCATION   \n3674           26          14000                2.0            VENTURE   \n...           ...            ...                ...                ...   \n7647           22          47000                3.0  DEBTCONSOLIDATION   \n1120           22          40000                1.0  DEBTCONSOLIDATION   \n19531          27          34000               12.0            VENTURE   \n5581           26          74500                8.0            VENTURE   \n615            22          44000                2.0          EDUCATION   \n\n      loan_grade  loan_amnt  loan_int_rate  loan_percent_income  \\\n29762          B       5000          11.49                 0.13   \n2714           A      12000           7.88                 0.24   \n50             D      30000          10.99                 0.38   \n28458          C      10000          11.41                 0.13   \n3674           B       4000          10.99                 0.29   \n...          ...        ...            ...                  ...   \n7647           B       6850          10.65                 0.15   \n1120           B      17000          10.65                 0.42   \n19531          C      10625          13.47                 0.31   \n5581           B       5000          11.36                 0.07   \n615            E      20000          15.68                 0.45   \n\n      cb_person_default_on_file  cb_person_cred_hist_length  \\\n29762                         N                          16   \n2714                          N                           2   \n50                            Y                           4   \n28458                         N                           7   \n3674                          N                           3   \n...                         ...                         ...   \n7647                          N                           4   \n1120                          N                           4   \n19531                         Y                          10   \n5581                          N                           2   \n615                           N                           4   \n\n       home_ownership_MORTGAGE  home_ownership_OTHER  home_ownership_OWN  \\\n29762                      1.0                   0.0                 0.0   \n2714                       0.0                   0.0                 0.0   \n50                         0.0                   0.0                 0.0   \n28458                      0.0                   0.0                 0.0   \n3674                       0.0                   0.0                 0.0   \n...                        ...                   ...                 ...   \n7647                       0.0                   0.0                 0.0   \n1120                       0.0                   0.0                 0.0   \n19531                      1.0                   0.0                 0.0   \n5581                       0.0                   0.0                 0.0   \n615                        0.0                   0.0                 0.0   \n\n       home_ownership_RENT  \n29762                  0.0  \n2714                   1.0  \n50                     1.0  \n28458                  1.0  \n3674                   1.0  \n...                    ...  \n7647                   1.0  \n1120                   1.0  \n19531                  0.0  \n5581                   1.0  \n615                    1.0  \n\n[25954 rows x 14 columns]",
      "text/html": "<div>\n<style scoped>\n    .dataframe tbody tr th:only-of-type {\n        vertical-align: middle;\n    }\n\n    .dataframe tbody tr th {\n        vertical-align: top;\n    }\n\n    .dataframe thead th {\n        text-align: right;\n    }\n</style>\n<table border=\"1\" class=\"dataframe\">\n  <thead>\n    <tr style=\"text-align: right;\">\n      <th></th>\n      <th>person_age</th>\n      <th>person_income</th>\n      <th>person_emp_length</th>\n      <th>loan_intent</th>\n      <th>loan_grade</th>\n      <th>loan_amnt</th>\n      <th>loan_int_rate</th>\n      <th>loan_percent_income</th>\n      <th>cb_person_default_on_file</th>\n      <th>cb_person_cred_hist_length</th>\n      <th>home_ownership_MORTGAGE</th>\n      <th>home_ownership_OTHER</th>\n      <th>home_ownership_OWN</th>\n      <th>home_ownership_RENT</th>\n    </tr>\n  </thead>\n  <tbody>\n    <tr>\n      <th>29762</th>\n      <td>45</td>\n      <td>37500</td>\n      <td>1.0</td>\n      <td>DEBTCONSOLIDATION</td>\n      <td>B</td>\n      <td>5000</td>\n      <td>11.49</td>\n      <td>0.13</td>\n      <td>N</td>\n      <td>16</td>\n      <td>1.0</td>\n      <td>0.0</td>\n      <td>0.0</td>\n      <td>0.0</td>\n    </tr>\n    <tr>\n      <th>2714</th>\n      <td>25</td>\n      <td>50000</td>\n      <td>5.0</td>\n      <td>PERSONAL</td>\n      <td>A</td>\n      <td>12000</td>\n      <td>7.88</td>\n      <td>0.24</td>\n      <td>N</td>\n      <td>2</td>\n      <td>0.0</td>\n      <td>0.0</td>\n      <td>0.0</td>\n      <td>1.0</td>\n    </tr>\n    <tr>\n      <th>50</th>\n      <td>24</td>\n      <td>78000</td>\n      <td>4.0</td>\n      <td>DEBTCONSOLIDATION</td>\n      <td>D</td>\n      <td>30000</td>\n      <td>10.99</td>\n      <td>0.38</td>\n      <td>Y</td>\n      <td>4</td>\n      <td>0.0</td>\n      <td>0.0</td>\n      <td>0.0</td>\n      <td>1.0</td>\n    </tr>\n    <tr>\n      <th>28458</th>\n      <td>31</td>\n      <td>78504</td>\n      <td>2.0</td>\n      <td>EDUCATION</td>\n      <td>C</td>\n      <td>10000</td>\n      <td>11.41</td>\n      <td>0.13</td>\n      <td>N</td>\n      <td>7</td>\n      <td>0.0</td>\n      <td>0.0</td>\n      <td>0.0</td>\n      <td>1.0</td>\n    </tr>\n    <tr>\n      <th>3674</th>\n      <td>26</td>\n      <td>14000</td>\n      <td>2.0</td>\n      <td>VENTURE</td>\n      <td>B</td>\n      <td>4000</td>\n      <td>10.99</td>\n      <td>0.29</td>\n      <td>N</td>\n      <td>3</td>\n      <td>0.0</td>\n      <td>0.0</td>\n      <td>0.0</td>\n      <td>1.0</td>\n    </tr>\n    <tr>\n      <th>...</th>\n      <td>...</td>\n      <td>...</td>\n      <td>...</td>\n      <td>...</td>\n      <td>...</td>\n      <td>...</td>\n      <td>...</td>\n      <td>...</td>\n      <td>...</td>\n      <td>...</td>\n      <td>...</td>\n      <td>...</td>\n      <td>...</td>\n      <td>...</td>\n    </tr>\n    <tr>\n      <th>7647</th>\n      <td>22</td>\n      <td>47000</td>\n      <td>3.0</td>\n      <td>DEBTCONSOLIDATION</td>\n      <td>B</td>\n      <td>6850</td>\n      <td>10.65</td>\n      <td>0.15</td>\n      <td>N</td>\n      <td>4</td>\n      <td>0.0</td>\n      <td>0.0</td>\n      <td>0.0</td>\n      <td>1.0</td>\n    </tr>\n    <tr>\n      <th>1120</th>\n      <td>22</td>\n      <td>40000</td>\n      <td>1.0</td>\n      <td>DEBTCONSOLIDATION</td>\n      <td>B</td>\n      <td>17000</td>\n      <td>10.65</td>\n      <td>0.42</td>\n      <td>N</td>\n      <td>4</td>\n      <td>0.0</td>\n      <td>0.0</td>\n      <td>0.0</td>\n      <td>1.0</td>\n    </tr>\n    <tr>\n      <th>19531</th>\n      <td>27</td>\n      <td>34000</td>\n      <td>12.0</td>\n      <td>VENTURE</td>\n      <td>C</td>\n      <td>10625</td>\n      <td>13.47</td>\n      <td>0.31</td>\n      <td>Y</td>\n      <td>10</td>\n      <td>1.0</td>\n      <td>0.0</td>\n      <td>0.0</td>\n      <td>0.0</td>\n    </tr>\n    <tr>\n      <th>5581</th>\n      <td>26</td>\n      <td>74500</td>\n      <td>8.0</td>\n      <td>VENTURE</td>\n      <td>B</td>\n      <td>5000</td>\n      <td>11.36</td>\n      <td>0.07</td>\n      <td>N</td>\n      <td>2</td>\n      <td>0.0</td>\n      <td>0.0</td>\n      <td>0.0</td>\n      <td>1.0</td>\n    </tr>\n    <tr>\n      <th>615</th>\n      <td>22</td>\n      <td>44000</td>\n      <td>2.0</td>\n      <td>EDUCATION</td>\n      <td>E</td>\n      <td>20000</td>\n      <td>15.68</td>\n      <td>0.45</td>\n      <td>N</td>\n      <td>4</td>\n      <td>0.0</td>\n      <td>0.0</td>\n      <td>0.0</td>\n      <td>1.0</td>\n    </tr>\n  </tbody>\n</table>\n<p>25954 rows × 14 columns</p>\n</div>"
     },
     "execution_count": 16,
     "metadata": {},
     "output_type": "execute_result"
    }
   ],
   "source": [
    "X_train = utils.ohe_transform(X_train, \"person_home_ownership\", \"home_ownership\", ohe_home_ownership)\n",
    "X_train"
   ],
   "metadata": {
    "collapsed": false
   }
  },
  {
   "cell_type": "code",
   "execution_count": 17,
   "outputs": [
    {
     "name": "stdout",
     "output_type": "stream",
     "text": [
      "ohe_transform: params have been validated.\n",
      "\n",
      "ohe_transform: The list of column names before coding is ['person_age', 'person_income', 'person_emp_length', 'loan_intent', 'loan_grade', 'loan_amnt', 'loan_int_rate', 'loan_percent_income', 'cb_person_default_on_file', 'cb_person_cred_hist_length', 'home_ownership_MORTGAGE', 'home_ownership_OTHER', 'home_ownership_OWN', 'home_ownership_RENT'].\n",
      "\n",
      "ohe_transform: The list of column names after coding is ['person_age', 'person_income', 'person_emp_length', 'loan_grade', 'loan_amnt', 'loan_int_rate', 'loan_percent_income', 'cb_person_default_on_file', 'cb_person_cred_hist_length', 'home_ownership_MORTGAGE', 'home_ownership_OTHER', 'home_ownership_OWN', 'home_ownership_RENT', 'loan_intent_DEBTCONSOLIDATION', 'loan_intent_EDUCATION', 'loan_intent_HOMEIMPROVEMENT', 'loan_intent_MEDICAL', 'loan_intent_PERSONAL', 'loan_intent_VENTURE'].\n"
     ]
    },
    {
     "name": "stderr",
     "output_type": "stream",
     "text": [
      "E:\\01_Programming\\Py\\Aditya_MLPROCESS\\Aditya_venv\\Lib\\site-packages\\sklearn\\base.py:486: UserWarning: X has feature names, but OneHotEncoder was fitted without feature names\n",
      "  warnings.warn(\n"
     ]
    },
    {
     "data": {
      "text/plain": "       person_age  person_income  person_emp_length loan_grade  loan_amnt  \\\n29762          45          37500                1.0          B       5000   \n2714           25          50000                5.0          A      12000   \n50             24          78000                4.0          D      30000   \n28458          31          78504                2.0          C      10000   \n3674           26          14000                2.0          B       4000   \n...           ...            ...                ...        ...        ...   \n7647           22          47000                3.0          B       6850   \n1120           22          40000                1.0          B      17000   \n19531          27          34000               12.0          C      10625   \n5581           26          74500                8.0          B       5000   \n615            22          44000                2.0          E      20000   \n\n       loan_int_rate  loan_percent_income cb_person_default_on_file  \\\n29762          11.49                 0.13                         N   \n2714            7.88                 0.24                         N   \n50             10.99                 0.38                         Y   \n28458          11.41                 0.13                         N   \n3674           10.99                 0.29                         N   \n...              ...                  ...                       ...   \n7647           10.65                 0.15                         N   \n1120           10.65                 0.42                         N   \n19531          13.47                 0.31                         Y   \n5581           11.36                 0.07                         N   \n615            15.68                 0.45                         N   \n\n       cb_person_cred_hist_length  home_ownership_MORTGAGE  \\\n29762                          16                      1.0   \n2714                            2                      0.0   \n50                              4                      0.0   \n28458                           7                      0.0   \n3674                            3                      0.0   \n...                           ...                      ...   \n7647                            4                      0.0   \n1120                            4                      0.0   \n19531                          10                      1.0   \n5581                            2                      0.0   \n615                             4                      0.0   \n\n       home_ownership_OTHER  home_ownership_OWN  home_ownership_RENT  \\\n29762                   0.0                 0.0                  0.0   \n2714                    0.0                 0.0                  1.0   \n50                      0.0                 0.0                  1.0   \n28458                   0.0                 0.0                  1.0   \n3674                    0.0                 0.0                  1.0   \n...                     ...                 ...                  ...   \n7647                    0.0                 0.0                  1.0   \n1120                    0.0                 0.0                  1.0   \n19531                   0.0                 0.0                  0.0   \n5581                    0.0                 0.0                  1.0   \n615                     0.0                 0.0                  1.0   \n\n       loan_intent_DEBTCONSOLIDATION  loan_intent_EDUCATION  \\\n29762                            1.0                    0.0   \n2714                             0.0                    0.0   \n50                               1.0                    0.0   \n28458                            0.0                    1.0   \n3674                             0.0                    0.0   \n...                              ...                    ...   \n7647                             1.0                    0.0   \n1120                             1.0                    0.0   \n19531                            0.0                    0.0   \n5581                             0.0                    0.0   \n615                              0.0                    1.0   \n\n       loan_intent_HOMEIMPROVEMENT  loan_intent_MEDICAL  loan_intent_PERSONAL  \\\n29762                          0.0                  0.0                   0.0   \n2714                           0.0                  0.0                   1.0   \n50                             0.0                  0.0                   0.0   \n28458                          0.0                  0.0                   0.0   \n3674                           0.0                  0.0                   0.0   \n...                            ...                  ...                   ...   \n7647                           0.0                  0.0                   0.0   \n1120                           0.0                  0.0                   0.0   \n19531                          0.0                  0.0                   0.0   \n5581                           0.0                  0.0                   0.0   \n615                            0.0                  0.0                   0.0   \n\n       loan_intent_VENTURE  \n29762                  0.0  \n2714                   0.0  \n50                     0.0  \n28458                  0.0  \n3674                   1.0  \n...                    ...  \n7647                   0.0  \n1120                   0.0  \n19531                  1.0  \n5581                   1.0  \n615                    0.0  \n\n[25954 rows x 19 columns]",
      "text/html": "<div>\n<style scoped>\n    .dataframe tbody tr th:only-of-type {\n        vertical-align: middle;\n    }\n\n    .dataframe tbody tr th {\n        vertical-align: top;\n    }\n\n    .dataframe thead th {\n        text-align: right;\n    }\n</style>\n<table border=\"1\" class=\"dataframe\">\n  <thead>\n    <tr style=\"text-align: right;\">\n      <th></th>\n      <th>person_age</th>\n      <th>person_income</th>\n      <th>person_emp_length</th>\n      <th>loan_grade</th>\n      <th>loan_amnt</th>\n      <th>loan_int_rate</th>\n      <th>loan_percent_income</th>\n      <th>cb_person_default_on_file</th>\n      <th>cb_person_cred_hist_length</th>\n      <th>home_ownership_MORTGAGE</th>\n      <th>home_ownership_OTHER</th>\n      <th>home_ownership_OWN</th>\n      <th>home_ownership_RENT</th>\n      <th>loan_intent_DEBTCONSOLIDATION</th>\n      <th>loan_intent_EDUCATION</th>\n      <th>loan_intent_HOMEIMPROVEMENT</th>\n      <th>loan_intent_MEDICAL</th>\n      <th>loan_intent_PERSONAL</th>\n      <th>loan_intent_VENTURE</th>\n    </tr>\n  </thead>\n  <tbody>\n    <tr>\n      <th>29762</th>\n      <td>45</td>\n      <td>37500</td>\n      <td>1.0</td>\n      <td>B</td>\n      <td>5000</td>\n      <td>11.49</td>\n      <td>0.13</td>\n      <td>N</td>\n      <td>16</td>\n      <td>1.0</td>\n      <td>0.0</td>\n      <td>0.0</td>\n      <td>0.0</td>\n      <td>1.0</td>\n      <td>0.0</td>\n      <td>0.0</td>\n      <td>0.0</td>\n      <td>0.0</td>\n      <td>0.0</td>\n    </tr>\n    <tr>\n      <th>2714</th>\n      <td>25</td>\n      <td>50000</td>\n      <td>5.0</td>\n      <td>A</td>\n      <td>12000</td>\n      <td>7.88</td>\n      <td>0.24</td>\n      <td>N</td>\n      <td>2</td>\n      <td>0.0</td>\n      <td>0.0</td>\n      <td>0.0</td>\n      <td>1.0</td>\n      <td>0.0</td>\n      <td>0.0</td>\n      <td>0.0</td>\n      <td>0.0</td>\n      <td>1.0</td>\n      <td>0.0</td>\n    </tr>\n    <tr>\n      <th>50</th>\n      <td>24</td>\n      <td>78000</td>\n      <td>4.0</td>\n      <td>D</td>\n      <td>30000</td>\n      <td>10.99</td>\n      <td>0.38</td>\n      <td>Y</td>\n      <td>4</td>\n      <td>0.0</td>\n      <td>0.0</td>\n      <td>0.0</td>\n      <td>1.0</td>\n      <td>1.0</td>\n      <td>0.0</td>\n      <td>0.0</td>\n      <td>0.0</td>\n      <td>0.0</td>\n      <td>0.0</td>\n    </tr>\n    <tr>\n      <th>28458</th>\n      <td>31</td>\n      <td>78504</td>\n      <td>2.0</td>\n      <td>C</td>\n      <td>10000</td>\n      <td>11.41</td>\n      <td>0.13</td>\n      <td>N</td>\n      <td>7</td>\n      <td>0.0</td>\n      <td>0.0</td>\n      <td>0.0</td>\n      <td>1.0</td>\n      <td>0.0</td>\n      <td>1.0</td>\n      <td>0.0</td>\n      <td>0.0</td>\n      <td>0.0</td>\n      <td>0.0</td>\n    </tr>\n    <tr>\n      <th>3674</th>\n      <td>26</td>\n      <td>14000</td>\n      <td>2.0</td>\n      <td>B</td>\n      <td>4000</td>\n      <td>10.99</td>\n      <td>0.29</td>\n      <td>N</td>\n      <td>3</td>\n      <td>0.0</td>\n      <td>0.0</td>\n      <td>0.0</td>\n      <td>1.0</td>\n      <td>0.0</td>\n      <td>0.0</td>\n      <td>0.0</td>\n      <td>0.0</td>\n      <td>0.0</td>\n      <td>1.0</td>\n    </tr>\n    <tr>\n      <th>...</th>\n      <td>...</td>\n      <td>...</td>\n      <td>...</td>\n      <td>...</td>\n      <td>...</td>\n      <td>...</td>\n      <td>...</td>\n      <td>...</td>\n      <td>...</td>\n      <td>...</td>\n      <td>...</td>\n      <td>...</td>\n      <td>...</td>\n      <td>...</td>\n      <td>...</td>\n      <td>...</td>\n      <td>...</td>\n      <td>...</td>\n      <td>...</td>\n    </tr>\n    <tr>\n      <th>7647</th>\n      <td>22</td>\n      <td>47000</td>\n      <td>3.0</td>\n      <td>B</td>\n      <td>6850</td>\n      <td>10.65</td>\n      <td>0.15</td>\n      <td>N</td>\n      <td>4</td>\n      <td>0.0</td>\n      <td>0.0</td>\n      <td>0.0</td>\n      <td>1.0</td>\n      <td>1.0</td>\n      <td>0.0</td>\n      <td>0.0</td>\n      <td>0.0</td>\n      <td>0.0</td>\n      <td>0.0</td>\n    </tr>\n    <tr>\n      <th>1120</th>\n      <td>22</td>\n      <td>40000</td>\n      <td>1.0</td>\n      <td>B</td>\n      <td>17000</td>\n      <td>10.65</td>\n      <td>0.42</td>\n      <td>N</td>\n      <td>4</td>\n      <td>0.0</td>\n      <td>0.0</td>\n      <td>0.0</td>\n      <td>1.0</td>\n      <td>1.0</td>\n      <td>0.0</td>\n      <td>0.0</td>\n      <td>0.0</td>\n      <td>0.0</td>\n      <td>0.0</td>\n    </tr>\n    <tr>\n      <th>19531</th>\n      <td>27</td>\n      <td>34000</td>\n      <td>12.0</td>\n      <td>C</td>\n      <td>10625</td>\n      <td>13.47</td>\n      <td>0.31</td>\n      <td>Y</td>\n      <td>10</td>\n      <td>1.0</td>\n      <td>0.0</td>\n      <td>0.0</td>\n      <td>0.0</td>\n      <td>0.0</td>\n      <td>0.0</td>\n      <td>0.0</td>\n      <td>0.0</td>\n      <td>0.0</td>\n      <td>1.0</td>\n    </tr>\n    <tr>\n      <th>5581</th>\n      <td>26</td>\n      <td>74500</td>\n      <td>8.0</td>\n      <td>B</td>\n      <td>5000</td>\n      <td>11.36</td>\n      <td>0.07</td>\n      <td>N</td>\n      <td>2</td>\n      <td>0.0</td>\n      <td>0.0</td>\n      <td>0.0</td>\n      <td>1.0</td>\n      <td>0.0</td>\n      <td>0.0</td>\n      <td>0.0</td>\n      <td>0.0</td>\n      <td>0.0</td>\n      <td>1.0</td>\n    </tr>\n    <tr>\n      <th>615</th>\n      <td>22</td>\n      <td>44000</td>\n      <td>2.0</td>\n      <td>E</td>\n      <td>20000</td>\n      <td>15.68</td>\n      <td>0.45</td>\n      <td>N</td>\n      <td>4</td>\n      <td>0.0</td>\n      <td>0.0</td>\n      <td>0.0</td>\n      <td>1.0</td>\n      <td>0.0</td>\n      <td>1.0</td>\n      <td>0.0</td>\n      <td>0.0</td>\n      <td>0.0</td>\n      <td>0.0</td>\n    </tr>\n  </tbody>\n</table>\n<p>25954 rows × 19 columns</p>\n</div>"
     },
     "execution_count": 17,
     "metadata": {},
     "output_type": "execute_result"
    }
   ],
   "source": [
    "X_train = utils.ohe_transform(X_train, \"loan_intent\", \"loan_intent\", ohe_loan_intent)\n",
    "X_train"
   ],
   "metadata": {
    "collapsed": false
   }
  },
  {
   "cell_type": "code",
   "execution_count": 18,
   "outputs": [
    {
     "name": "stdout",
     "output_type": "stream",
     "text": [
      "ohe_transform: params have been validated.\n",
      "\n",
      "ohe_transform: The list of column names before coding is ['person_age', 'person_income', 'person_emp_length', 'loan_grade', 'loan_amnt', 'loan_int_rate', 'loan_percent_income', 'cb_person_default_on_file', 'cb_person_cred_hist_length', 'home_ownership_MORTGAGE', 'home_ownership_OTHER', 'home_ownership_OWN', 'home_ownership_RENT', 'loan_intent_DEBTCONSOLIDATION', 'loan_intent_EDUCATION', 'loan_intent_HOMEIMPROVEMENT', 'loan_intent_MEDICAL', 'loan_intent_PERSONAL', 'loan_intent_VENTURE'].\n",
      "\n",
      "ohe_transform: The list of column names after coding is ['person_age', 'person_income', 'person_emp_length', 'loan_amnt', 'loan_int_rate', 'loan_percent_income', 'cb_person_default_on_file', 'cb_person_cred_hist_length', 'home_ownership_MORTGAGE', 'home_ownership_OTHER', 'home_ownership_OWN', 'home_ownership_RENT', 'loan_intent_DEBTCONSOLIDATION', 'loan_intent_EDUCATION', 'loan_intent_HOMEIMPROVEMENT', 'loan_intent_MEDICAL', 'loan_intent_PERSONAL', 'loan_intent_VENTURE', 'loan_grade_A', 'loan_grade_B', 'loan_grade_C', 'loan_grade_D', 'loan_grade_E', 'loan_grade_F', 'loan_grade_G'].\n"
     ]
    },
    {
     "name": "stderr",
     "output_type": "stream",
     "text": [
      "E:\\01_Programming\\Py\\Aditya_MLPROCESS\\Aditya_venv\\Lib\\site-packages\\sklearn\\base.py:486: UserWarning: X has feature names, but OneHotEncoder was fitted without feature names\n",
      "  warnings.warn(\n"
     ]
    },
    {
     "data": {
      "text/plain": "       person_age  person_income  person_emp_length  loan_amnt  loan_int_rate  \\\n29762          45          37500                1.0       5000          11.49   \n2714           25          50000                5.0      12000           7.88   \n50             24          78000                4.0      30000          10.99   \n28458          31          78504                2.0      10000          11.41   \n3674           26          14000                2.0       4000          10.99   \n...           ...            ...                ...        ...            ...   \n7647           22          47000                3.0       6850          10.65   \n1120           22          40000                1.0      17000          10.65   \n19531          27          34000               12.0      10625          13.47   \n5581           26          74500                8.0       5000          11.36   \n615            22          44000                2.0      20000          15.68   \n\n       loan_percent_income cb_person_default_on_file  \\\n29762                 0.13                         N   \n2714                  0.24                         N   \n50                    0.38                         Y   \n28458                 0.13                         N   \n3674                  0.29                         N   \n...                    ...                       ...   \n7647                  0.15                         N   \n1120                  0.42                         N   \n19531                 0.31                         Y   \n5581                  0.07                         N   \n615                   0.45                         N   \n\n       cb_person_cred_hist_length  home_ownership_MORTGAGE  \\\n29762                          16                      1.0   \n2714                            2                      0.0   \n50                              4                      0.0   \n28458                           7                      0.0   \n3674                            3                      0.0   \n...                           ...                      ...   \n7647                            4                      0.0   \n1120                            4                      0.0   \n19531                          10                      1.0   \n5581                            2                      0.0   \n615                             4                      0.0   \n\n       home_ownership_OTHER  ...  loan_intent_MEDICAL  loan_intent_PERSONAL  \\\n29762                   0.0  ...                  0.0                   0.0   \n2714                    0.0  ...                  0.0                   1.0   \n50                      0.0  ...                  0.0                   0.0   \n28458                   0.0  ...                  0.0                   0.0   \n3674                    0.0  ...                  0.0                   0.0   \n...                     ...  ...                  ...                   ...   \n7647                    0.0  ...                  0.0                   0.0   \n1120                    0.0  ...                  0.0                   0.0   \n19531                   0.0  ...                  0.0                   0.0   \n5581                    0.0  ...                  0.0                   0.0   \n615                     0.0  ...                  0.0                   0.0   \n\n       loan_intent_VENTURE  loan_grade_A  loan_grade_B  loan_grade_C  \\\n29762                  0.0           0.0           1.0           0.0   \n2714                   0.0           1.0           0.0           0.0   \n50                     0.0           0.0           0.0           0.0   \n28458                  0.0           0.0           0.0           1.0   \n3674                   1.0           0.0           1.0           0.0   \n...                    ...           ...           ...           ...   \n7647                   0.0           0.0           1.0           0.0   \n1120                   0.0           0.0           1.0           0.0   \n19531                  1.0           0.0           0.0           1.0   \n5581                   1.0           0.0           1.0           0.0   \n615                    0.0           0.0           0.0           0.0   \n\n       loan_grade_D  loan_grade_E  loan_grade_F  loan_grade_G  \n29762           0.0           0.0           0.0           0.0  \n2714            0.0           0.0           0.0           0.0  \n50              1.0           0.0           0.0           0.0  \n28458           0.0           0.0           0.0           0.0  \n3674            0.0           0.0           0.0           0.0  \n...             ...           ...           ...           ...  \n7647            0.0           0.0           0.0           0.0  \n1120            0.0           0.0           0.0           0.0  \n19531           0.0           0.0           0.0           0.0  \n5581            0.0           0.0           0.0           0.0  \n615             0.0           1.0           0.0           0.0  \n\n[25954 rows x 25 columns]",
      "text/html": "<div>\n<style scoped>\n    .dataframe tbody tr th:only-of-type {\n        vertical-align: middle;\n    }\n\n    .dataframe tbody tr th {\n        vertical-align: top;\n    }\n\n    .dataframe thead th {\n        text-align: right;\n    }\n</style>\n<table border=\"1\" class=\"dataframe\">\n  <thead>\n    <tr style=\"text-align: right;\">\n      <th></th>\n      <th>person_age</th>\n      <th>person_income</th>\n      <th>person_emp_length</th>\n      <th>loan_amnt</th>\n      <th>loan_int_rate</th>\n      <th>loan_percent_income</th>\n      <th>cb_person_default_on_file</th>\n      <th>cb_person_cred_hist_length</th>\n      <th>home_ownership_MORTGAGE</th>\n      <th>home_ownership_OTHER</th>\n      <th>...</th>\n      <th>loan_intent_MEDICAL</th>\n      <th>loan_intent_PERSONAL</th>\n      <th>loan_intent_VENTURE</th>\n      <th>loan_grade_A</th>\n      <th>loan_grade_B</th>\n      <th>loan_grade_C</th>\n      <th>loan_grade_D</th>\n      <th>loan_grade_E</th>\n      <th>loan_grade_F</th>\n      <th>loan_grade_G</th>\n    </tr>\n  </thead>\n  <tbody>\n    <tr>\n      <th>29762</th>\n      <td>45</td>\n      <td>37500</td>\n      <td>1.0</td>\n      <td>5000</td>\n      <td>11.49</td>\n      <td>0.13</td>\n      <td>N</td>\n      <td>16</td>\n      <td>1.0</td>\n      <td>0.0</td>\n      <td>...</td>\n      <td>0.0</td>\n      <td>0.0</td>\n      <td>0.0</td>\n      <td>0.0</td>\n      <td>1.0</td>\n      <td>0.0</td>\n      <td>0.0</td>\n      <td>0.0</td>\n      <td>0.0</td>\n      <td>0.0</td>\n    </tr>\n    <tr>\n      <th>2714</th>\n      <td>25</td>\n      <td>50000</td>\n      <td>5.0</td>\n      <td>12000</td>\n      <td>7.88</td>\n      <td>0.24</td>\n      <td>N</td>\n      <td>2</td>\n      <td>0.0</td>\n      <td>0.0</td>\n      <td>...</td>\n      <td>0.0</td>\n      <td>1.0</td>\n      <td>0.0</td>\n      <td>1.0</td>\n      <td>0.0</td>\n      <td>0.0</td>\n      <td>0.0</td>\n      <td>0.0</td>\n      <td>0.0</td>\n      <td>0.0</td>\n    </tr>\n    <tr>\n      <th>50</th>\n      <td>24</td>\n      <td>78000</td>\n      <td>4.0</td>\n      <td>30000</td>\n      <td>10.99</td>\n      <td>0.38</td>\n      <td>Y</td>\n      <td>4</td>\n      <td>0.0</td>\n      <td>0.0</td>\n      <td>...</td>\n      <td>0.0</td>\n      <td>0.0</td>\n      <td>0.0</td>\n      <td>0.0</td>\n      <td>0.0</td>\n      <td>0.0</td>\n      <td>1.0</td>\n      <td>0.0</td>\n      <td>0.0</td>\n      <td>0.0</td>\n    </tr>\n    <tr>\n      <th>28458</th>\n      <td>31</td>\n      <td>78504</td>\n      <td>2.0</td>\n      <td>10000</td>\n      <td>11.41</td>\n      <td>0.13</td>\n      <td>N</td>\n      <td>7</td>\n      <td>0.0</td>\n      <td>0.0</td>\n      <td>...</td>\n      <td>0.0</td>\n      <td>0.0</td>\n      <td>0.0</td>\n      <td>0.0</td>\n      <td>0.0</td>\n      <td>1.0</td>\n      <td>0.0</td>\n      <td>0.0</td>\n      <td>0.0</td>\n      <td>0.0</td>\n    </tr>\n    <tr>\n      <th>3674</th>\n      <td>26</td>\n      <td>14000</td>\n      <td>2.0</td>\n      <td>4000</td>\n      <td>10.99</td>\n      <td>0.29</td>\n      <td>N</td>\n      <td>3</td>\n      <td>0.0</td>\n      <td>0.0</td>\n      <td>...</td>\n      <td>0.0</td>\n      <td>0.0</td>\n      <td>1.0</td>\n      <td>0.0</td>\n      <td>1.0</td>\n      <td>0.0</td>\n      <td>0.0</td>\n      <td>0.0</td>\n      <td>0.0</td>\n      <td>0.0</td>\n    </tr>\n    <tr>\n      <th>...</th>\n      <td>...</td>\n      <td>...</td>\n      <td>...</td>\n      <td>...</td>\n      <td>...</td>\n      <td>...</td>\n      <td>...</td>\n      <td>...</td>\n      <td>...</td>\n      <td>...</td>\n      <td>...</td>\n      <td>...</td>\n      <td>...</td>\n      <td>...</td>\n      <td>...</td>\n      <td>...</td>\n      <td>...</td>\n      <td>...</td>\n      <td>...</td>\n      <td>...</td>\n      <td>...</td>\n    </tr>\n    <tr>\n      <th>7647</th>\n      <td>22</td>\n      <td>47000</td>\n      <td>3.0</td>\n      <td>6850</td>\n      <td>10.65</td>\n      <td>0.15</td>\n      <td>N</td>\n      <td>4</td>\n      <td>0.0</td>\n      <td>0.0</td>\n      <td>...</td>\n      <td>0.0</td>\n      <td>0.0</td>\n      <td>0.0</td>\n      <td>0.0</td>\n      <td>1.0</td>\n      <td>0.0</td>\n      <td>0.0</td>\n      <td>0.0</td>\n      <td>0.0</td>\n      <td>0.0</td>\n    </tr>\n    <tr>\n      <th>1120</th>\n      <td>22</td>\n      <td>40000</td>\n      <td>1.0</td>\n      <td>17000</td>\n      <td>10.65</td>\n      <td>0.42</td>\n      <td>N</td>\n      <td>4</td>\n      <td>0.0</td>\n      <td>0.0</td>\n      <td>...</td>\n      <td>0.0</td>\n      <td>0.0</td>\n      <td>0.0</td>\n      <td>0.0</td>\n      <td>1.0</td>\n      <td>0.0</td>\n      <td>0.0</td>\n      <td>0.0</td>\n      <td>0.0</td>\n      <td>0.0</td>\n    </tr>\n    <tr>\n      <th>19531</th>\n      <td>27</td>\n      <td>34000</td>\n      <td>12.0</td>\n      <td>10625</td>\n      <td>13.47</td>\n      <td>0.31</td>\n      <td>Y</td>\n      <td>10</td>\n      <td>1.0</td>\n      <td>0.0</td>\n      <td>...</td>\n      <td>0.0</td>\n      <td>0.0</td>\n      <td>1.0</td>\n      <td>0.0</td>\n      <td>0.0</td>\n      <td>1.0</td>\n      <td>0.0</td>\n      <td>0.0</td>\n      <td>0.0</td>\n      <td>0.0</td>\n    </tr>\n    <tr>\n      <th>5581</th>\n      <td>26</td>\n      <td>74500</td>\n      <td>8.0</td>\n      <td>5000</td>\n      <td>11.36</td>\n      <td>0.07</td>\n      <td>N</td>\n      <td>2</td>\n      <td>0.0</td>\n      <td>0.0</td>\n      <td>...</td>\n      <td>0.0</td>\n      <td>0.0</td>\n      <td>1.0</td>\n      <td>0.0</td>\n      <td>1.0</td>\n      <td>0.0</td>\n      <td>0.0</td>\n      <td>0.0</td>\n      <td>0.0</td>\n      <td>0.0</td>\n    </tr>\n    <tr>\n      <th>615</th>\n      <td>22</td>\n      <td>44000</td>\n      <td>2.0</td>\n      <td>20000</td>\n      <td>15.68</td>\n      <td>0.45</td>\n      <td>N</td>\n      <td>4</td>\n      <td>0.0</td>\n      <td>0.0</td>\n      <td>...</td>\n      <td>0.0</td>\n      <td>0.0</td>\n      <td>0.0</td>\n      <td>0.0</td>\n      <td>0.0</td>\n      <td>0.0</td>\n      <td>0.0</td>\n      <td>1.0</td>\n      <td>0.0</td>\n      <td>0.0</td>\n    </tr>\n  </tbody>\n</table>\n<p>25954 rows × 25 columns</p>\n</div>"
     },
     "execution_count": 18,
     "metadata": {},
     "output_type": "execute_result"
    }
   ],
   "source": [
    "X_train = utils.ohe_transform(X_train, \"loan_grade\", \"loan_grade\", ohe_loan_grade)\n",
    "X_train"
   ],
   "metadata": {
    "collapsed": false
   }
  },
  {
   "cell_type": "code",
   "execution_count": 19,
   "outputs": [
    {
     "name": "stdout",
     "output_type": "stream",
     "text": [
      "ohe_transform: params have been validated.\n",
      "\n",
      "ohe_transform: The list of column names before coding is ['person_age', 'person_income', 'person_emp_length', 'loan_amnt', 'loan_int_rate', 'loan_percent_income', 'cb_person_default_on_file', 'cb_person_cred_hist_length', 'home_ownership_MORTGAGE', 'home_ownership_OTHER', 'home_ownership_OWN', 'home_ownership_RENT', 'loan_intent_DEBTCONSOLIDATION', 'loan_intent_EDUCATION', 'loan_intent_HOMEIMPROVEMENT', 'loan_intent_MEDICAL', 'loan_intent_PERSONAL', 'loan_intent_VENTURE', 'loan_grade_A', 'loan_grade_B', 'loan_grade_C', 'loan_grade_D', 'loan_grade_E', 'loan_grade_F', 'loan_grade_G'].\n",
      "\n",
      "ohe_transform: The list of column names after coding is ['person_age', 'person_income', 'person_emp_length', 'loan_amnt', 'loan_int_rate', 'loan_percent_income', 'cb_person_cred_hist_length', 'home_ownership_MORTGAGE', 'home_ownership_OTHER', 'home_ownership_OWN', 'home_ownership_RENT', 'loan_intent_DEBTCONSOLIDATION', 'loan_intent_EDUCATION', 'loan_intent_HOMEIMPROVEMENT', 'loan_intent_MEDICAL', 'loan_intent_PERSONAL', 'loan_intent_VENTURE', 'loan_grade_A', 'loan_grade_B', 'loan_grade_C', 'loan_grade_D', 'loan_grade_E', 'loan_grade_F', 'loan_grade_G', 'default_onfile_N', 'default_onfile_Y'].\n"
     ]
    },
    {
     "name": "stderr",
     "output_type": "stream",
     "text": [
      "E:\\01_Programming\\Py\\Aditya_MLPROCESS\\Aditya_venv\\Lib\\site-packages\\sklearn\\base.py:486: UserWarning: X has feature names, but OneHotEncoder was fitted without feature names\n",
      "  warnings.warn(\n"
     ]
    },
    {
     "data": {
      "text/plain": "       person_age  person_income  person_emp_length  loan_amnt  loan_int_rate  \\\n29762          45          37500                1.0       5000          11.49   \n2714           25          50000                5.0      12000           7.88   \n50             24          78000                4.0      30000          10.99   \n28458          31          78504                2.0      10000          11.41   \n3674           26          14000                2.0       4000          10.99   \n...           ...            ...                ...        ...            ...   \n7647           22          47000                3.0       6850          10.65   \n1120           22          40000                1.0      17000          10.65   \n19531          27          34000               12.0      10625          13.47   \n5581           26          74500                8.0       5000          11.36   \n615            22          44000                2.0      20000          15.68   \n\n       loan_percent_income  cb_person_cred_hist_length  \\\n29762                 0.13                          16   \n2714                  0.24                           2   \n50                    0.38                           4   \n28458                 0.13                           7   \n3674                  0.29                           3   \n...                    ...                         ...   \n7647                  0.15                           4   \n1120                  0.42                           4   \n19531                 0.31                          10   \n5581                  0.07                           2   \n615                   0.45                           4   \n\n       home_ownership_MORTGAGE  home_ownership_OTHER  home_ownership_OWN  ...  \\\n29762                      1.0                   0.0                 0.0  ...   \n2714                       0.0                   0.0                 0.0  ...   \n50                         0.0                   0.0                 0.0  ...   \n28458                      0.0                   0.0                 0.0  ...   \n3674                       0.0                   0.0                 0.0  ...   \n...                        ...                   ...                 ...  ...   \n7647                       0.0                   0.0                 0.0  ...   \n1120                       0.0                   0.0                 0.0  ...   \n19531                      1.0                   0.0                 0.0  ...   \n5581                       0.0                   0.0                 0.0  ...   \n615                        0.0                   0.0                 0.0  ...   \n\n       loan_intent_VENTURE  loan_grade_A  loan_grade_B  loan_grade_C  \\\n29762                  0.0           0.0           1.0           0.0   \n2714                   0.0           1.0           0.0           0.0   \n50                     0.0           0.0           0.0           0.0   \n28458                  0.0           0.0           0.0           1.0   \n3674                   1.0           0.0           1.0           0.0   \n...                    ...           ...           ...           ...   \n7647                   0.0           0.0           1.0           0.0   \n1120                   0.0           0.0           1.0           0.0   \n19531                  1.0           0.0           0.0           1.0   \n5581                   1.0           0.0           1.0           0.0   \n615                    0.0           0.0           0.0           0.0   \n\n       loan_grade_D  loan_grade_E  loan_grade_F  loan_grade_G  \\\n29762           0.0           0.0           0.0           0.0   \n2714            0.0           0.0           0.0           0.0   \n50              1.0           0.0           0.0           0.0   \n28458           0.0           0.0           0.0           0.0   \n3674            0.0           0.0           0.0           0.0   \n...             ...           ...           ...           ...   \n7647            0.0           0.0           0.0           0.0   \n1120            0.0           0.0           0.0           0.0   \n19531           0.0           0.0           0.0           0.0   \n5581            0.0           0.0           0.0           0.0   \n615             0.0           1.0           0.0           0.0   \n\n       default_onfile_N  default_onfile_Y  \n29762               1.0               0.0  \n2714                1.0               0.0  \n50                  0.0               1.0  \n28458               1.0               0.0  \n3674                1.0               0.0  \n...                 ...               ...  \n7647                1.0               0.0  \n1120                1.0               0.0  \n19531               0.0               1.0  \n5581                1.0               0.0  \n615                 1.0               0.0  \n\n[25954 rows x 26 columns]",
      "text/html": "<div>\n<style scoped>\n    .dataframe tbody tr th:only-of-type {\n        vertical-align: middle;\n    }\n\n    .dataframe tbody tr th {\n        vertical-align: top;\n    }\n\n    .dataframe thead th {\n        text-align: right;\n    }\n</style>\n<table border=\"1\" class=\"dataframe\">\n  <thead>\n    <tr style=\"text-align: right;\">\n      <th></th>\n      <th>person_age</th>\n      <th>person_income</th>\n      <th>person_emp_length</th>\n      <th>loan_amnt</th>\n      <th>loan_int_rate</th>\n      <th>loan_percent_income</th>\n      <th>cb_person_cred_hist_length</th>\n      <th>home_ownership_MORTGAGE</th>\n      <th>home_ownership_OTHER</th>\n      <th>home_ownership_OWN</th>\n      <th>...</th>\n      <th>loan_intent_VENTURE</th>\n      <th>loan_grade_A</th>\n      <th>loan_grade_B</th>\n      <th>loan_grade_C</th>\n      <th>loan_grade_D</th>\n      <th>loan_grade_E</th>\n      <th>loan_grade_F</th>\n      <th>loan_grade_G</th>\n      <th>default_onfile_N</th>\n      <th>default_onfile_Y</th>\n    </tr>\n  </thead>\n  <tbody>\n    <tr>\n      <th>29762</th>\n      <td>45</td>\n      <td>37500</td>\n      <td>1.0</td>\n      <td>5000</td>\n      <td>11.49</td>\n      <td>0.13</td>\n      <td>16</td>\n      <td>1.0</td>\n      <td>0.0</td>\n      <td>0.0</td>\n      <td>...</td>\n      <td>0.0</td>\n      <td>0.0</td>\n      <td>1.0</td>\n      <td>0.0</td>\n      <td>0.0</td>\n      <td>0.0</td>\n      <td>0.0</td>\n      <td>0.0</td>\n      <td>1.0</td>\n      <td>0.0</td>\n    </tr>\n    <tr>\n      <th>2714</th>\n      <td>25</td>\n      <td>50000</td>\n      <td>5.0</td>\n      <td>12000</td>\n      <td>7.88</td>\n      <td>0.24</td>\n      <td>2</td>\n      <td>0.0</td>\n      <td>0.0</td>\n      <td>0.0</td>\n      <td>...</td>\n      <td>0.0</td>\n      <td>1.0</td>\n      <td>0.0</td>\n      <td>0.0</td>\n      <td>0.0</td>\n      <td>0.0</td>\n      <td>0.0</td>\n      <td>0.0</td>\n      <td>1.0</td>\n      <td>0.0</td>\n    </tr>\n    <tr>\n      <th>50</th>\n      <td>24</td>\n      <td>78000</td>\n      <td>4.0</td>\n      <td>30000</td>\n      <td>10.99</td>\n      <td>0.38</td>\n      <td>4</td>\n      <td>0.0</td>\n      <td>0.0</td>\n      <td>0.0</td>\n      <td>...</td>\n      <td>0.0</td>\n      <td>0.0</td>\n      <td>0.0</td>\n      <td>0.0</td>\n      <td>1.0</td>\n      <td>0.0</td>\n      <td>0.0</td>\n      <td>0.0</td>\n      <td>0.0</td>\n      <td>1.0</td>\n    </tr>\n    <tr>\n      <th>28458</th>\n      <td>31</td>\n      <td>78504</td>\n      <td>2.0</td>\n      <td>10000</td>\n      <td>11.41</td>\n      <td>0.13</td>\n      <td>7</td>\n      <td>0.0</td>\n      <td>0.0</td>\n      <td>0.0</td>\n      <td>...</td>\n      <td>0.0</td>\n      <td>0.0</td>\n      <td>0.0</td>\n      <td>1.0</td>\n      <td>0.0</td>\n      <td>0.0</td>\n      <td>0.0</td>\n      <td>0.0</td>\n      <td>1.0</td>\n      <td>0.0</td>\n    </tr>\n    <tr>\n      <th>3674</th>\n      <td>26</td>\n      <td>14000</td>\n      <td>2.0</td>\n      <td>4000</td>\n      <td>10.99</td>\n      <td>0.29</td>\n      <td>3</td>\n      <td>0.0</td>\n      <td>0.0</td>\n      <td>0.0</td>\n      <td>...</td>\n      <td>1.0</td>\n      <td>0.0</td>\n      <td>1.0</td>\n      <td>0.0</td>\n      <td>0.0</td>\n      <td>0.0</td>\n      <td>0.0</td>\n      <td>0.0</td>\n      <td>1.0</td>\n      <td>0.0</td>\n    </tr>\n    <tr>\n      <th>...</th>\n      <td>...</td>\n      <td>...</td>\n      <td>...</td>\n      <td>...</td>\n      <td>...</td>\n      <td>...</td>\n      <td>...</td>\n      <td>...</td>\n      <td>...</td>\n      <td>...</td>\n      <td>...</td>\n      <td>...</td>\n      <td>...</td>\n      <td>...</td>\n      <td>...</td>\n      <td>...</td>\n      <td>...</td>\n      <td>...</td>\n      <td>...</td>\n      <td>...</td>\n      <td>...</td>\n    </tr>\n    <tr>\n      <th>7647</th>\n      <td>22</td>\n      <td>47000</td>\n      <td>3.0</td>\n      <td>6850</td>\n      <td>10.65</td>\n      <td>0.15</td>\n      <td>4</td>\n      <td>0.0</td>\n      <td>0.0</td>\n      <td>0.0</td>\n      <td>...</td>\n      <td>0.0</td>\n      <td>0.0</td>\n      <td>1.0</td>\n      <td>0.0</td>\n      <td>0.0</td>\n      <td>0.0</td>\n      <td>0.0</td>\n      <td>0.0</td>\n      <td>1.0</td>\n      <td>0.0</td>\n    </tr>\n    <tr>\n      <th>1120</th>\n      <td>22</td>\n      <td>40000</td>\n      <td>1.0</td>\n      <td>17000</td>\n      <td>10.65</td>\n      <td>0.42</td>\n      <td>4</td>\n      <td>0.0</td>\n      <td>0.0</td>\n      <td>0.0</td>\n      <td>...</td>\n      <td>0.0</td>\n      <td>0.0</td>\n      <td>1.0</td>\n      <td>0.0</td>\n      <td>0.0</td>\n      <td>0.0</td>\n      <td>0.0</td>\n      <td>0.0</td>\n      <td>1.0</td>\n      <td>0.0</td>\n    </tr>\n    <tr>\n      <th>19531</th>\n      <td>27</td>\n      <td>34000</td>\n      <td>12.0</td>\n      <td>10625</td>\n      <td>13.47</td>\n      <td>0.31</td>\n      <td>10</td>\n      <td>1.0</td>\n      <td>0.0</td>\n      <td>0.0</td>\n      <td>...</td>\n      <td>1.0</td>\n      <td>0.0</td>\n      <td>0.0</td>\n      <td>1.0</td>\n      <td>0.0</td>\n      <td>0.0</td>\n      <td>0.0</td>\n      <td>0.0</td>\n      <td>0.0</td>\n      <td>1.0</td>\n    </tr>\n    <tr>\n      <th>5581</th>\n      <td>26</td>\n      <td>74500</td>\n      <td>8.0</td>\n      <td>5000</td>\n      <td>11.36</td>\n      <td>0.07</td>\n      <td>2</td>\n      <td>0.0</td>\n      <td>0.0</td>\n      <td>0.0</td>\n      <td>...</td>\n      <td>1.0</td>\n      <td>0.0</td>\n      <td>1.0</td>\n      <td>0.0</td>\n      <td>0.0</td>\n      <td>0.0</td>\n      <td>0.0</td>\n      <td>0.0</td>\n      <td>1.0</td>\n      <td>0.0</td>\n    </tr>\n    <tr>\n      <th>615</th>\n      <td>22</td>\n      <td>44000</td>\n      <td>2.0</td>\n      <td>20000</td>\n      <td>15.68</td>\n      <td>0.45</td>\n      <td>4</td>\n      <td>0.0</td>\n      <td>0.0</td>\n      <td>0.0</td>\n      <td>...</td>\n      <td>0.0</td>\n      <td>0.0</td>\n      <td>0.0</td>\n      <td>0.0</td>\n      <td>0.0</td>\n      <td>1.0</td>\n      <td>0.0</td>\n      <td>0.0</td>\n      <td>1.0</td>\n      <td>0.0</td>\n    </tr>\n  </tbody>\n</table>\n<p>25954 rows × 26 columns</p>\n</div>"
     },
     "execution_count": 19,
     "metadata": {},
     "output_type": "execute_result"
    }
   ],
   "source": [
    "X_train = utils.ohe_transform(X_train, \"cb_person_default_on_file\", \"default_onfile\", ohe_default_on_file)\n",
    "X_train"
   ],
   "metadata": {
    "collapsed": false
   }
  },
  {
   "cell_type": "markdown",
   "source": [
    "### X_valid"
   ],
   "metadata": {
    "collapsed": false
   }
  },
  {
   "cell_type": "code",
   "execution_count": 31,
   "outputs": [
    {
     "name": "stdout",
     "output_type": "stream",
     "text": [
      "Shape of X_valid before transforming: (3258, 11)\n",
      "ohe_transform: params have been validated.\n",
      "\n",
      "ohe_transform: The list of column names before coding is ['person_age', 'person_income', 'person_home_ownership', 'person_emp_length', 'loan_intent', 'loan_grade', 'loan_amnt', 'loan_int_rate', 'loan_percent_income', 'cb_person_default_on_file', 'cb_person_cred_hist_length'].\n",
      "\n",
      "ohe_transform: The list of column names after coding is ['person_age', 'person_income', 'person_emp_length', 'loan_intent', 'loan_grade', 'loan_amnt', 'loan_int_rate', 'loan_percent_income', 'cb_person_default_on_file', 'cb_person_cred_hist_length', 'home_ownership_MORTGAGE', 'home_ownership_OTHER', 'home_ownership_OWN', 'home_ownership_RENT'].\n",
      "ohe_transform: params have been validated.\n",
      "\n",
      "ohe_transform: The list of column names before coding is ['person_age', 'person_income', 'person_emp_length', 'loan_intent', 'loan_grade', 'loan_amnt', 'loan_int_rate', 'loan_percent_income', 'cb_person_default_on_file', 'cb_person_cred_hist_length', 'home_ownership_MORTGAGE', 'home_ownership_OTHER', 'home_ownership_OWN', 'home_ownership_RENT'].\n",
      "\n",
      "ohe_transform: The list of column names after coding is ['person_age', 'person_income', 'person_emp_length', 'loan_grade', 'loan_amnt', 'loan_int_rate', 'loan_percent_income', 'cb_person_default_on_file', 'cb_person_cred_hist_length', 'home_ownership_MORTGAGE', 'home_ownership_OTHER', 'home_ownership_OWN', 'home_ownership_RENT', 'loan_intent_DEBTCONSOLIDATION', 'loan_intent_EDUCATION', 'loan_intent_HOMEIMPROVEMENT', 'loan_intent_MEDICAL', 'loan_intent_PERSONAL', 'loan_intent_VENTURE'].\n",
      "ohe_transform: params have been validated.\n",
      "\n",
      "ohe_transform: The list of column names before coding is ['person_age', 'person_income', 'person_emp_length', 'loan_grade', 'loan_amnt', 'loan_int_rate', 'loan_percent_income', 'cb_person_default_on_file', 'cb_person_cred_hist_length', 'home_ownership_MORTGAGE', 'home_ownership_OTHER', 'home_ownership_OWN', 'home_ownership_RENT', 'loan_intent_DEBTCONSOLIDATION', 'loan_intent_EDUCATION', 'loan_intent_HOMEIMPROVEMENT', 'loan_intent_MEDICAL', 'loan_intent_PERSONAL', 'loan_intent_VENTURE'].\n",
      "\n",
      "ohe_transform: The list of column names after coding is ['person_age', 'person_income', 'person_emp_length', 'loan_amnt', 'loan_int_rate', 'loan_percent_income', 'cb_person_default_on_file', 'cb_person_cred_hist_length', 'home_ownership_MORTGAGE', 'home_ownership_OTHER', 'home_ownership_OWN', 'home_ownership_RENT', 'loan_intent_DEBTCONSOLIDATION', 'loan_intent_EDUCATION', 'loan_intent_HOMEIMPROVEMENT', 'loan_intent_MEDICAL', 'loan_intent_PERSONAL', 'loan_intent_VENTURE', 'loan_grade_A', 'loan_grade_B', 'loan_grade_C', 'loan_grade_D', 'loan_grade_E', 'loan_grade_F', 'loan_grade_G'].\n",
      "ohe_transform: params have been validated.\n",
      "\n",
      "ohe_transform: The list of column names before coding is ['person_age', 'person_income', 'person_emp_length', 'loan_amnt', 'loan_int_rate', 'loan_percent_income', 'cb_person_default_on_file', 'cb_person_cred_hist_length', 'home_ownership_MORTGAGE', 'home_ownership_OTHER', 'home_ownership_OWN', 'home_ownership_RENT', 'loan_intent_DEBTCONSOLIDATION', 'loan_intent_EDUCATION', 'loan_intent_HOMEIMPROVEMENT', 'loan_intent_MEDICAL', 'loan_intent_PERSONAL', 'loan_intent_VENTURE', 'loan_grade_A', 'loan_grade_B', 'loan_grade_C', 'loan_grade_D', 'loan_grade_E', 'loan_grade_F', 'loan_grade_G'].\n",
      "\n",
      "ohe_transform: The list of column names after coding is ['person_age', 'person_income', 'person_emp_length', 'loan_amnt', 'loan_int_rate', 'loan_percent_income', 'cb_person_cred_hist_length', 'home_ownership_MORTGAGE', 'home_ownership_OTHER', 'home_ownership_OWN', 'home_ownership_RENT', 'loan_intent_DEBTCONSOLIDATION', 'loan_intent_EDUCATION', 'loan_intent_HOMEIMPROVEMENT', 'loan_intent_MEDICAL', 'loan_intent_PERSONAL', 'loan_intent_VENTURE', 'loan_grade_A', 'loan_grade_B', 'loan_grade_C', 'loan_grade_D', 'loan_grade_E', 'loan_grade_F', 'loan_grade_G', 'default_onfile_N', 'default_onfile_Y'].\n",
      "\n",
      "Shape of X_valid before transforming: (3258, 26)\n"
     ]
    },
    {
     "name": "stderr",
     "output_type": "stream",
     "text": [
      "E:\\01_Programming\\Py\\Aditya_MLPROCESS\\Aditya_venv\\Lib\\site-packages\\sklearn\\base.py:486: UserWarning: X has feature names, but OneHotEncoder was fitted without feature names\n",
      "  warnings.warn(\n",
      "E:\\01_Programming\\Py\\Aditya_MLPROCESS\\Aditya_venv\\Lib\\site-packages\\sklearn\\base.py:486: UserWarning: X has feature names, but OneHotEncoder was fitted without feature names\n",
      "  warnings.warn(\n",
      "E:\\01_Programming\\Py\\Aditya_MLPROCESS\\Aditya_venv\\Lib\\site-packages\\sklearn\\base.py:486: UserWarning: X has feature names, but OneHotEncoder was fitted without feature names\n",
      "  warnings.warn(\n",
      "E:\\01_Programming\\Py\\Aditya_MLPROCESS\\Aditya_venv\\Lib\\site-packages\\sklearn\\base.py:486: UserWarning: X has feature names, but OneHotEncoder was fitted without feature names\n",
      "  warnings.warn(\n"
     ]
    }
   ],
   "source": [
    "new_name = [\"home_ownership\",\"loan_intent\",\"loan_grade\",\"default_onfile\"]\n",
    "old_name = [\"person_home_ownership\", \"loan_intent\", \"loan_grade\", \"cb_person_default_on_file\"]\n",
    "ohe_list = [ohe_home_ownership, ohe_loan_intent, ohe_loan_grade,ohe_default_on_file]\n",
    "\n",
    "print(f\"Shape of X_valid before transforming: {X_valid.shape}\")\n",
    "\n",
    "for idx in range(len(old_name)):\n",
    "    X_valid = utils.ohe_transform(X_valid, old_name[idx], new_name[idx], ohe_list[idx])\n",
    "\n"
   ],
   "metadata": {
    "collapsed": false
   }
  },
  {
   "cell_type": "code",
   "execution_count": 32,
   "outputs": [
    {
     "name": "stdout",
     "output_type": "stream",
     "text": [
      "\n",
      "Shape of X_valid before transforming: (3258, 26)\n"
     ]
    }
   ],
   "source": [
    "print(f\"\\nShape of X_valid before transforming: {X_valid.shape}\")"
   ],
   "metadata": {
    "collapsed": false
   }
  },
  {
   "cell_type": "markdown",
   "source": [
    "### X_test"
   ],
   "metadata": {
    "collapsed": false
   }
  },
  {
   "cell_type": "code",
   "execution_count": 33,
   "outputs": [
    {
     "name": "stdout",
     "output_type": "stream",
     "text": [
      "Shape of X_valid before transforming: (3259, 11)\n"
     ]
    }
   ],
   "source": [
    "print(f\"Shape of X_valid before transforming: {X_test.shape}\")"
   ],
   "metadata": {
    "collapsed": false
   }
  },
  {
   "cell_type": "code",
   "execution_count": 34,
   "outputs": [
    {
     "name": "stdout",
     "output_type": "stream",
     "text": [
      "ohe_transform: params have been validated.\n",
      "\n",
      "ohe_transform: The list of column names before coding is ['person_age', 'person_income', 'person_home_ownership', 'person_emp_length', 'loan_intent', 'loan_grade', 'loan_amnt', 'loan_int_rate', 'loan_percent_income', 'cb_person_default_on_file', 'cb_person_cred_hist_length'].\n",
      "\n",
      "ohe_transform: The list of column names after coding is ['person_age', 'person_income', 'person_emp_length', 'loan_intent', 'loan_grade', 'loan_amnt', 'loan_int_rate', 'loan_percent_income', 'cb_person_default_on_file', 'cb_person_cred_hist_length', 'home_ownership_MORTGAGE', 'home_ownership_OTHER', 'home_ownership_OWN', 'home_ownership_RENT'].\n",
      "ohe_transform: params have been validated.\n",
      "\n",
      "ohe_transform: The list of column names before coding is ['person_age', 'person_income', 'person_emp_length', 'loan_intent', 'loan_grade', 'loan_amnt', 'loan_int_rate', 'loan_percent_income', 'cb_person_default_on_file', 'cb_person_cred_hist_length', 'home_ownership_MORTGAGE', 'home_ownership_OTHER', 'home_ownership_OWN', 'home_ownership_RENT'].\n",
      "\n",
      "ohe_transform: The list of column names after coding is ['person_age', 'person_income', 'person_emp_length', 'loan_grade', 'loan_amnt', 'loan_int_rate', 'loan_percent_income', 'cb_person_default_on_file', 'cb_person_cred_hist_length', 'home_ownership_MORTGAGE', 'home_ownership_OTHER', 'home_ownership_OWN', 'home_ownership_RENT', 'loan_intent_DEBTCONSOLIDATION', 'loan_intent_EDUCATION', 'loan_intent_HOMEIMPROVEMENT', 'loan_intent_MEDICAL', 'loan_intent_PERSONAL', 'loan_intent_VENTURE'].\n",
      "ohe_transform: params have been validated.\n",
      "\n",
      "ohe_transform: The list of column names before coding is ['person_age', 'person_income', 'person_emp_length', 'loan_grade', 'loan_amnt', 'loan_int_rate', 'loan_percent_income', 'cb_person_default_on_file', 'cb_person_cred_hist_length', 'home_ownership_MORTGAGE', 'home_ownership_OTHER', 'home_ownership_OWN', 'home_ownership_RENT', 'loan_intent_DEBTCONSOLIDATION', 'loan_intent_EDUCATION', 'loan_intent_HOMEIMPROVEMENT', 'loan_intent_MEDICAL', 'loan_intent_PERSONAL', 'loan_intent_VENTURE'].\n",
      "\n",
      "ohe_transform: The list of column names after coding is ['person_age', 'person_income', 'person_emp_length', 'loan_amnt', 'loan_int_rate', 'loan_percent_income', 'cb_person_default_on_file', 'cb_person_cred_hist_length', 'home_ownership_MORTGAGE', 'home_ownership_OTHER', 'home_ownership_OWN', 'home_ownership_RENT', 'loan_intent_DEBTCONSOLIDATION', 'loan_intent_EDUCATION', 'loan_intent_HOMEIMPROVEMENT', 'loan_intent_MEDICAL', 'loan_intent_PERSONAL', 'loan_intent_VENTURE', 'loan_grade_A', 'loan_grade_B', 'loan_grade_C', 'loan_grade_D', 'loan_grade_E', 'loan_grade_F', 'loan_grade_G'].\n",
      "ohe_transform: params have been validated.\n",
      "\n",
      "ohe_transform: The list of column names before coding is ['person_age', 'person_income', 'person_emp_length', 'loan_amnt', 'loan_int_rate', 'loan_percent_income', 'cb_person_default_on_file', 'cb_person_cred_hist_length', 'home_ownership_MORTGAGE', 'home_ownership_OTHER', 'home_ownership_OWN', 'home_ownership_RENT', 'loan_intent_DEBTCONSOLIDATION', 'loan_intent_EDUCATION', 'loan_intent_HOMEIMPROVEMENT', 'loan_intent_MEDICAL', 'loan_intent_PERSONAL', 'loan_intent_VENTURE', 'loan_grade_A', 'loan_grade_B', 'loan_grade_C', 'loan_grade_D', 'loan_grade_E', 'loan_grade_F', 'loan_grade_G'].\n",
      "\n",
      "ohe_transform: The list of column names after coding is ['person_age', 'person_income', 'person_emp_length', 'loan_amnt', 'loan_int_rate', 'loan_percent_income', 'cb_person_cred_hist_length', 'home_ownership_MORTGAGE', 'home_ownership_OTHER', 'home_ownership_OWN', 'home_ownership_RENT', 'loan_intent_DEBTCONSOLIDATION', 'loan_intent_EDUCATION', 'loan_intent_HOMEIMPROVEMENT', 'loan_intent_MEDICAL', 'loan_intent_PERSONAL', 'loan_intent_VENTURE', 'loan_grade_A', 'loan_grade_B', 'loan_grade_C', 'loan_grade_D', 'loan_grade_E', 'loan_grade_F', 'loan_grade_G', 'default_onfile_N', 'default_onfile_Y'].\n"
     ]
    },
    {
     "name": "stderr",
     "output_type": "stream",
     "text": [
      "E:\\01_Programming\\Py\\Aditya_MLPROCESS\\Aditya_venv\\Lib\\site-packages\\sklearn\\base.py:486: UserWarning: X has feature names, but OneHotEncoder was fitted without feature names\n",
      "  warnings.warn(\n",
      "E:\\01_Programming\\Py\\Aditya_MLPROCESS\\Aditya_venv\\Lib\\site-packages\\sklearn\\base.py:486: UserWarning: X has feature names, but OneHotEncoder was fitted without feature names\n",
      "  warnings.warn(\n",
      "E:\\01_Programming\\Py\\Aditya_MLPROCESS\\Aditya_venv\\Lib\\site-packages\\sklearn\\base.py:486: UserWarning: X has feature names, but OneHotEncoder was fitted without feature names\n",
      "  warnings.warn(\n",
      "E:\\01_Programming\\Py\\Aditya_MLPROCESS\\Aditya_venv\\Lib\\site-packages\\sklearn\\base.py:486: UserWarning: X has feature names, but OneHotEncoder was fitted without feature names\n",
      "  warnings.warn(\n"
     ]
    }
   ],
   "source": [
    "for idx in range(len(old_name)):\n",
    "    X_test = utils.ohe_transform(X_test, old_name[idx], new_name[idx], ohe_list[idx])"
   ],
   "metadata": {
    "collapsed": false
   }
  },
  {
   "cell_type": "code",
   "execution_count": 35,
   "outputs": [
    {
     "name": "stdout",
     "output_type": "stream",
     "text": [
      "Shape of X_valid before transforming: (3259, 26)\n"
     ]
    }
   ],
   "source": [
    "print(f\"Shape of X_valid before transforming: {X_test.shape}\")"
   ],
   "metadata": {
    "collapsed": false
   }
  },
  {
   "cell_type": "markdown",
   "source": [
    "## serialize encoded features data"
   ],
   "metadata": {
    "collapsed": false
   }
  },
  {
   "cell_type": "code",
   "execution_count": 37,
   "outputs": [],
   "source": [
    "list_finish_encode = [X_train, X_valid, X_test]\n",
    "path_serialize_ohe = [\"data/02_processed/X_train_prep.pkl\", \"data/02_processed/X_valid_prep.pkl\", \"data/02_processed/X_test_prep.pkl\"]\n",
    "for idx in range(len(list_finish_encode)):\n",
    "    utils.serialize_data(list_finish_encode[idx], path_serialize_ohe[idx])"
   ],
   "metadata": {
    "collapsed": false
   }
  },
  {
   "cell_type": "markdown",
   "source": [
    "## serialize target data"
   ],
   "metadata": {
    "collapsed": false
   }
  },
  {
   "cell_type": "code",
   "execution_count": 43,
   "outputs": [],
   "source": [
    "list_finish_target = [y_train, y_valid, y_test]\n",
    "path_serialize_target = [\"data/02_processed/y_train_prep.pkl\", \"data/02_processed/y_valid_prep.pkl\", \"data/02_processed/y_test_prep.pkl\"]\n",
    "for idx in range(len(list_finish_encode)):\n",
    "    utils.serialize_data(list_finish_target[idx], path_serialize_target[idx])"
   ],
   "metadata": {
    "collapsed": false
   }
  },
  {
   "cell_type": "code",
   "execution_count": null,
   "outputs": [],
   "source": [],
   "metadata": {
    "collapsed": false
   }
  }
 ],
 "metadata": {
  "kernelspec": {
   "display_name": "Python 3",
   "language": "python",
   "name": "python3"
  },
  "language_info": {
   "codemirror_mode": {
    "name": "ipython",
    "version": 2
   },
   "file_extension": ".py",
   "mimetype": "text/x-python",
   "name": "python",
   "nbconvert_exporter": "python",
   "pygments_lexer": "ipython2",
   "version": "2.7.6"
  }
 },
 "nbformat": 4,
 "nbformat_minor": 0
}
