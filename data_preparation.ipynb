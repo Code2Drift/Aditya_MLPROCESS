{
 "cells": [
  {
   "cell_type": "code",
   "execution_count": 46,
   "metadata": {
    "collapsed": true
   },
   "outputs": [],
   "source": [
    "import numpy as np\n",
    "import pandas as pd\n",
    "import matplotlib.pyplot as plt\n",
    "from copy import deepcopy\n",
    "import seaborn as sns\n",
    "from imblearn.over_sampling import RandomOverSampler\n",
    "import yaml\n",
    "import os"
   ]
  },
  {
   "cell_type": "code",
   "execution_count": 49,
   "outputs": [
    {
     "name": "stdout",
     "output_type": "stream",
     "text": [
      "{'data_source': {'raw_file': 'E:\\\\01_Programming\\\\Py\\\\Aditya_MLPROCESS\\\\data\\\\00_raw\\\\credit_risk_dataset.csv', 'column_names': '', 'drop_columns': '', 'target_name': '', 'test_size': '', 'random_state': ''}}\n"
     ]
    }
   ],
   "source": [
    "## load configuration file\n",
    "config = yaml.safe_load(open(\"config.yaml\"))\n",
    "root_path = os.getcwd()\n",
    "print(config)"
   ],
   "metadata": {
    "collapsed": false
   }
  },
  {
   "cell_type": "code",
   "execution_count": 50,
   "outputs": [
    {
     "name": "stdout",
     "output_type": "stream",
     "text": [
      "Data shape: (32581, 12)\n"
     ]
    }
   ],
   "source": [
    "## functions\n",
    "def load_data(fname: pd.DataFrame):\n",
    "    data = pd.read_csv(fname)\n",
    "    '''validation'''\n",
    "    print(f\"Data shape: {data.shape}\")\n",
    "\n",
    "    return data\n",
    "\n",
    "fname = config['data_source']['raw_file']\n",
    "\n",
    "data = load_data(fname)\n",
    "\n"
   ],
   "metadata": {
    "collapsed": false
   }
  },
  {
   "cell_type": "code",
   "execution_count": 51,
   "outputs": [
    {
     "data": {
      "text/plain": "   person_age  person_income person_home_ownership  person_emp_length  \\\n0          22          59000                  RENT              123.0   \n1          21           9600                   OWN                5.0   \n2          25           9600              MORTGAGE                1.0   \n3          23          65500                  RENT                4.0   \n4          24          54400                  RENT                8.0   \n\n  loan_intent loan_grade  loan_amnt  loan_int_rate  loan_status  \\\n0    PERSONAL          D      35000          16.02            1   \n1   EDUCATION          B       1000          11.14            0   \n2     MEDICAL          C       5500          12.87            1   \n3     MEDICAL          C      35000          15.23            1   \n4     MEDICAL          C      35000          14.27            1   \n\n   loan_percent_income cb_person_default_on_file  cb_person_cred_hist_length  \n0                 0.59                         Y                           3  \n1                 0.10                         N                           2  \n2                 0.57                         N                           3  \n3                 0.53                         N                           2  \n4                 0.55                         Y                           4  ",
      "text/html": "<div>\n<style scoped>\n    .dataframe tbody tr th:only-of-type {\n        vertical-align: middle;\n    }\n\n    .dataframe tbody tr th {\n        vertical-align: top;\n    }\n\n    .dataframe thead th {\n        text-align: right;\n    }\n</style>\n<table border=\"1\" class=\"dataframe\">\n  <thead>\n    <tr style=\"text-align: right;\">\n      <th></th>\n      <th>person_age</th>\n      <th>person_income</th>\n      <th>person_home_ownership</th>\n      <th>person_emp_length</th>\n      <th>loan_intent</th>\n      <th>loan_grade</th>\n      <th>loan_amnt</th>\n      <th>loan_int_rate</th>\n      <th>loan_status</th>\n      <th>loan_percent_income</th>\n      <th>cb_person_default_on_file</th>\n      <th>cb_person_cred_hist_length</th>\n    </tr>\n  </thead>\n  <tbody>\n    <tr>\n      <th>0</th>\n      <td>22</td>\n      <td>59000</td>\n      <td>RENT</td>\n      <td>123.0</td>\n      <td>PERSONAL</td>\n      <td>D</td>\n      <td>35000</td>\n      <td>16.02</td>\n      <td>1</td>\n      <td>0.59</td>\n      <td>Y</td>\n      <td>3</td>\n    </tr>\n    <tr>\n      <th>1</th>\n      <td>21</td>\n      <td>9600</td>\n      <td>OWN</td>\n      <td>5.0</td>\n      <td>EDUCATION</td>\n      <td>B</td>\n      <td>1000</td>\n      <td>11.14</td>\n      <td>0</td>\n      <td>0.10</td>\n      <td>N</td>\n      <td>2</td>\n    </tr>\n    <tr>\n      <th>2</th>\n      <td>25</td>\n      <td>9600</td>\n      <td>MORTGAGE</td>\n      <td>1.0</td>\n      <td>MEDICAL</td>\n      <td>C</td>\n      <td>5500</td>\n      <td>12.87</td>\n      <td>1</td>\n      <td>0.57</td>\n      <td>N</td>\n      <td>3</td>\n    </tr>\n    <tr>\n      <th>3</th>\n      <td>23</td>\n      <td>65500</td>\n      <td>RENT</td>\n      <td>4.0</td>\n      <td>MEDICAL</td>\n      <td>C</td>\n      <td>35000</td>\n      <td>15.23</td>\n      <td>1</td>\n      <td>0.53</td>\n      <td>N</td>\n      <td>2</td>\n    </tr>\n    <tr>\n      <th>4</th>\n      <td>24</td>\n      <td>54400</td>\n      <td>RENT</td>\n      <td>8.0</td>\n      <td>MEDICAL</td>\n      <td>C</td>\n      <td>35000</td>\n      <td>14.27</td>\n      <td>1</td>\n      <td>0.55</td>\n      <td>Y</td>\n      <td>4</td>\n    </tr>\n  </tbody>\n</table>\n</div>"
     },
     "execution_count": 51,
     "metadata": {},
     "output_type": "execute_result"
    }
   ],
   "source": [
    "data.head(5)"
   ],
   "metadata": {
    "collapsed": false
   }
  },
  {
   "cell_type": "code",
   "execution_count": null,
   "outputs": [],
   "source": [
    "print(\"testing repository\")"
   ],
   "metadata": {
    "collapsed": false
   }
  },
  {
   "cell_type": "code",
   "execution_count": null,
   "outputs": [],
   "source": [],
   "metadata": {
    "collapsed": false
   }
  },
  {
   "cell_type": "code",
   "execution_count": null,
   "outputs": [],
   "source": [],
   "metadata": {
    "collapsed": false
   }
  }
 ],
 "metadata": {
  "kernelspec": {
   "display_name": "Python 3",
   "language": "python",
   "name": "python3"
  },
  "language_info": {
   "codemirror_mode": {
    "name": "ipython",
    "version": 2
   },
   "file_extension": ".py",
   "mimetype": "text/x-python",
   "name": "python",
   "nbconvert_exporter": "python",
   "pygments_lexer": "ipython2",
   "version": "2.7.6"
  }
 },
 "nbformat": 4,
 "nbformat_minor": 0
}
