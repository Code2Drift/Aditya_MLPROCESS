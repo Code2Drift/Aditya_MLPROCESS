{
 "cells": [
  {
   "cell_type": "markdown",
   "source": [
    "# Dependencies"
   ],
   "metadata": {
    "collapsed": false
   }
  },
  {
   "cell_type": "code",
   "execution_count": 3,
   "metadata": {
    "collapsed": true
   },
   "outputs": [],
   "source": [
    "import numpy as np\n",
    "import pandas as pd\n",
    "import matplotlib.pyplot as plt\n",
    "from copy import deepcopy\n",
    "import seaborn as sns\n",
    "from imblearn.over_sampling import RandomOverSampler\n",
    "import yaml\n",
    "import os\n",
    "import sys\n",
    "sys.path.append(os.path.join(os.getcwd(), 'src'))\n",
    "import pickle\n",
    "import joblib\n",
    "import src.utils as utils"
   ]
  },
  {
   "cell_type": "markdown",
   "source": [
    "\n",
    "**Below is an overview of dataset features**\n",
    "\n",
    "```\n",
    "# This is formatted as code\n",
    "      Column                      #count          #type   # description\n",
    "      -----------------------     --------------  ------  -----------------\n",
    " 1.   person_age                  32416 non-null  int64   : Age\n",
    "\n",
    " 2.   person_income               32416 non-null  int64   : Annual Income\n",
    "\n",
    " 3.   person_home_ownership       32416 non-null  object  : Status of home ownership (cat)\n",
    "\n",
    " 4.   person_emp_length           31529 non-null  float64 : Person employment length (years)\n",
    "\n",
    " 5.   loan_intent                 32416 non-null  object  : Loan intention (Cat)\n",
    "\n",
    " 6.   loan_grade                  32416 non-null  object  : Loan Grade (A-F)\n",
    "\n",
    " 7.   loan_amnt                   32416 non-null  int64   : Loan amount (USD)\n",
    "\n",
    " 8.   loan_int_rate               29321 non-null  float64 : Interest rate (%)\n",
    "\n",
    " 9.   loan_status                 32416 non-null  int64   : 0-> non-default, 1-> default\n",
    "\n",
    " 10.  loan_percent_income         32416 non-null  float64 : loan-income ratio (0-1)\n",
    "\n",
    " 11.  cb_person_default_on_file   32416 non-null  object  : historical default (T / F)\n",
    "\n",
    " 12.  cb_person_cred_hist_length  32416 non-null  int64   : credit history length (in years?)\n",
    "```"
   ],
   "metadata": {
    "collapsed": false
   }
  },
  {
   "cell_type": "code",
   "execution_count": 4,
   "outputs": [],
   "source": [
    "## load configuration file\n",
    "with open(\"config.yaml\", \"r\") as f:\n",
    "    config = yaml.safe_load(f)\n",
    "root_path = os.getcwd()"
   ],
   "metadata": {
    "collapsed": false
   }
  },
  {
   "cell_type": "code",
   "execution_count": 1,
   "outputs": [
    {
     "ename": "NameError",
     "evalue": "name 'config' is not defined",
     "output_type": "error",
     "traceback": [
      "\u001B[1;31m---------------------------------------------------------------------------\u001B[0m",
      "\u001B[1;31mNameError\u001B[0m                                 Traceback (most recent call last)",
      "Cell \u001B[1;32mIn[1], line 2\u001B[0m\n\u001B[0;32m      1\u001B[0m \u001B[38;5;66;03m## load constant variables\u001B[39;00m\n\u001B[1;32m----> 2\u001B[0m TARGET_COL \u001B[38;5;241m=\u001B[39m \u001B[43mconfig\u001B[49m[\u001B[38;5;124m'\u001B[39m\u001B[38;5;124mdata_source\u001B[39m\u001B[38;5;124m'\u001B[39m][\u001B[38;5;124m'\u001B[39m\u001B[38;5;124mtarget_col\u001B[39m\u001B[38;5;124m'\u001B[39m]\n\u001B[0;32m      3\u001B[0m TEST_SZ \u001B[38;5;241m=\u001B[39m config[\u001B[38;5;124m'\u001B[39m\u001B[38;5;124mdata_source\u001B[39m\u001B[38;5;124m'\u001B[39m][\u001B[38;5;124m'\u001B[39m\u001B[38;5;124mtest_size\u001B[39m\u001B[38;5;124m'\u001B[39m]\n\u001B[0;32m      4\u001B[0m SEED_ST \u001B[38;5;241m=\u001B[39m config[\u001B[38;5;124m'\u001B[39m\u001B[38;5;124mdata_source\u001B[39m\u001B[38;5;124m'\u001B[39m][\u001B[38;5;124m'\u001B[39m\u001B[38;5;124mrandom_state\u001B[39m\u001B[38;5;124m'\u001B[39m]\n",
      "\u001B[1;31mNameError\u001B[0m: name 'config' is not defined"
     ]
    }
   ],
   "source": [
    "## load constant variables\n",
    "TARGET_COL = config['data_source']['target_col']\n",
    "TEST_SZ = config['data_source']['test_size']\n",
    "SEED_ST = config['data_source']['random_state']\n",
    "NUM_COLS = config['data_source']['num_cols']\n",
    "CAT_COLS = config['data_source']['cat_cols']\n",
    "CORR_COLS = config['data_source']['corr_cols']\n",
    "X_TRAIN_PATH = config['pickle_path']['X_train']\n",
    "X_TEST_PATH = config['pickle_path']['X_test']\n",
    "X_VALID_PATH = config['pickle_path']['X_valid']\n",
    "y_TRAIN_PATH = config['pickle_path']['y_train']\n",
    "y_TEST_PATH = config['pickle_path']['y_test']\n",
    "y_VALID_PATH = config['pickle_path']['y_valid']"
   ],
   "metadata": {
    "collapsed": false
   }
  },
  {
   "cell_type": "code",
   "execution_count": 4,
   "outputs": [
    {
     "name": "stdout",
     "output_type": "stream",
     "text": [
      "Data before dropping shape: (32581, 12)\n",
      "Data after dropping shape: (32416, 12)\n"
     ]
    },
    {
     "data": {
      "text/plain": "   person_age  person_income person_home_ownership  person_emp_length  \\\n0          22          59000                  RENT              123.0   \n1          21           9600                   OWN                5.0   \n2          25           9600              MORTGAGE                1.0   \n3          23          65500                  RENT                4.0   \n4          24          54400                  RENT                8.0   \n\n  loan_intent loan_grade  loan_amnt  loan_int_rate  loan_status  \\\n0    PERSONAL          D      35000          16.02            1   \n1   EDUCATION          B       1000          11.14            0   \n2     MEDICAL          C       5500          12.87            1   \n3     MEDICAL          C      35000          15.23            1   \n4     MEDICAL          C      35000          14.27            1   \n\n   loan_percent_income cb_person_default_on_file  cb_person_cred_hist_length  \n0                 0.59                         Y                           3  \n1                 0.10                         N                           2  \n2                 0.57                         N                           3  \n3                 0.53                         N                           2  \n4                 0.55                         Y                           4  ",
      "text/html": "<div>\n<style scoped>\n    .dataframe tbody tr th:only-of-type {\n        vertical-align: middle;\n    }\n\n    .dataframe tbody tr th {\n        vertical-align: top;\n    }\n\n    .dataframe thead th {\n        text-align: right;\n    }\n</style>\n<table border=\"1\" class=\"dataframe\">\n  <thead>\n    <tr style=\"text-align: right;\">\n      <th></th>\n      <th>person_age</th>\n      <th>person_income</th>\n      <th>person_home_ownership</th>\n      <th>person_emp_length</th>\n      <th>loan_intent</th>\n      <th>loan_grade</th>\n      <th>loan_amnt</th>\n      <th>loan_int_rate</th>\n      <th>loan_status</th>\n      <th>loan_percent_income</th>\n      <th>cb_person_default_on_file</th>\n      <th>cb_person_cred_hist_length</th>\n    </tr>\n  </thead>\n  <tbody>\n    <tr>\n      <th>0</th>\n      <td>22</td>\n      <td>59000</td>\n      <td>RENT</td>\n      <td>123.0</td>\n      <td>PERSONAL</td>\n      <td>D</td>\n      <td>35000</td>\n      <td>16.02</td>\n      <td>1</td>\n      <td>0.59</td>\n      <td>Y</td>\n      <td>3</td>\n    </tr>\n    <tr>\n      <th>1</th>\n      <td>21</td>\n      <td>9600</td>\n      <td>OWN</td>\n      <td>5.0</td>\n      <td>EDUCATION</td>\n      <td>B</td>\n      <td>1000</td>\n      <td>11.14</td>\n      <td>0</td>\n      <td>0.10</td>\n      <td>N</td>\n      <td>2</td>\n    </tr>\n    <tr>\n      <th>2</th>\n      <td>25</td>\n      <td>9600</td>\n      <td>MORTGAGE</td>\n      <td>1.0</td>\n      <td>MEDICAL</td>\n      <td>C</td>\n      <td>5500</td>\n      <td>12.87</td>\n      <td>1</td>\n      <td>0.57</td>\n      <td>N</td>\n      <td>3</td>\n    </tr>\n    <tr>\n      <th>3</th>\n      <td>23</td>\n      <td>65500</td>\n      <td>RENT</td>\n      <td>4.0</td>\n      <td>MEDICAL</td>\n      <td>C</td>\n      <td>35000</td>\n      <td>15.23</td>\n      <td>1</td>\n      <td>0.53</td>\n      <td>N</td>\n      <td>2</td>\n    </tr>\n    <tr>\n      <th>4</th>\n      <td>24</td>\n      <td>54400</td>\n      <td>RENT</td>\n      <td>8.0</td>\n      <td>MEDICAL</td>\n      <td>C</td>\n      <td>35000</td>\n      <td>14.27</td>\n      <td>1</td>\n      <td>0.55</td>\n      <td>Y</td>\n      <td>4</td>\n    </tr>\n  </tbody>\n</table>\n</div>"
     },
     "execution_count": 4,
     "metadata": {},
     "output_type": "execute_result"
    }
   ],
   "source": [
    "fname = fr\"{config['data_source']['raw_file']}\"\n",
    "data = utils.load_data(fname)\n",
    "data.head(5)"
   ],
   "metadata": {
    "collapsed": false
   }
  },
  {
   "cell_type": "markdown",
   "source": [],
   "metadata": {
    "collapsed": false
   }
  },
  {
   "cell_type": "markdown",
   "source": [
    "## 1. Data preparation steps:\n",
    "\n",
    "1. Insight on missing value\n",
    "2. Class distribution\n",
    "3. Split input output\n",
    "4. Split to train, valid, test sets"
   ],
   "metadata": {
    "collapsed": false
   }
  },
  {
   "cell_type": "markdown",
   "source": [
    "### 1.1 insight missing value"
   ],
   "metadata": {
    "collapsed": false
   }
  },
  {
   "cell_type": "code",
   "execution_count": 5,
   "outputs": [
    {
     "name": "stdout",
     "output_type": "stream",
     "text": [
      "0.0% missing values of person_age\n",
      "\n",
      "0.0% missing values of person_income\n",
      "\n",
      "0.0% missing values of person_home_ownership\n",
      "\n",
      "2.75% missing values of person_emp_length\n",
      "\n",
      "0.0% missing values of loan_intent\n",
      "\n",
      "0.0% missing values of loan_grade\n",
      "\n",
      "0.0% missing values of loan_amnt\n",
      "\n",
      "9.56% missing values of loan_int_rate\n",
      "\n",
      "0.0% missing values of loan_status\n",
      "\n",
      "0.0% missing values of loan_percent_income\n",
      "\n",
      "0.0% missing values of cb_person_default_on_file\n",
      "\n",
      "0.0% missing values of cb_person_cred_hist_length\n",
      "\n"
     ]
    }
   ],
   "source": [
    "utils.percent_missing_values(data)"
   ],
   "metadata": {
    "collapsed": false
   }
  },
  {
   "cell_type": "code",
   "execution_count": 6,
   "outputs": [
    {
     "data": {
      "text/plain": "person_age                       0\nperson_income                    0\nperson_home_ownership            0\nperson_emp_length              895\nloan_intent                      0\nloan_grade                       0\nloan_amnt                        0\nloan_int_rate                 3116\nloan_status                      0\nloan_percent_income              0\ncb_person_default_on_file        0\ncb_person_cred_hist_length       0\ndtype: int64"
     },
     "execution_count": 6,
     "metadata": {},
     "output_type": "execute_result"
    }
   ],
   "source": [
    "data.isna().sum()"
   ],
   "metadata": {
    "collapsed": false
   }
  },
  {
   "cell_type": "markdown",
   "source": [
    "**Insights**\n",
    "\n",
    " -  There are some missing values in the feature `person_emp_length` and `loan_int_rate` both of which has a float variable. Therefore we have to consider imputation in numerical features.\n",
    "\n",
    " - There are no missing values for categorical features. Therefore, our pipeline only need encoding for these features."
   ],
   "metadata": {
    "collapsed": false
   }
  },
  {
   "cell_type": "markdown",
   "source": [
    "### 1.2 Class Distribution"
   ],
   "metadata": {
    "collapsed": false
   }
  },
  {
   "cell_type": "code",
   "execution_count": 7,
   "outputs": [
    {
     "data": {
      "text/plain": "Text(0.5, 1.0, 'Count of Class Instances with Minor-Major Ratio (0.28)')"
     },
     "execution_count": 7,
     "metadata": {},
     "output_type": "execute_result"
    },
    {
     "data": {
      "text/plain": "<Figure size 640x480 with 1 Axes>",
      "image/png": "[encoded data removed]"
     },
     "metadata": {},
     "output_type": "display_data"
    }
   ],
   "source": [
    "target_counts = data[TARGET_COL].value_counts()\n",
    "\n",
    "sns.barplot(x=target_counts.index, y=target_counts.values)\n",
    "ratio= []\n",
    "labels = []\n",
    "\n",
    "for i, count in zip(target_counts.index, target_counts.values):\n",
    "    labels.append(f'{i}: {count}')\n",
    "    num_str = labels[i][3:]\n",
    "    num = int(num_str)\n",
    "    ratio.append(num)\n",
    "\n",
    "cls_ratio = round(min(ratio) / max(ratio), 2)\n",
    "plt.legend(title=\"# Observation\", labels=labels)\n",
    "plt.ylabel(\"# of instances\")\n",
    "plt.title(f\"Count of Class Instances with Minor-Major Ratio ({cls_ratio})\")"
   ],
   "metadata": {
    "collapsed": false
   }
  },
  {
   "cell_type": "markdown",
   "source": [
    "- There is an imbalance of # Observation in our dataset. we can use sklearn `stratify` function to the target variable in order to get the same distribution for each splitted sets."
   ],
   "metadata": {
    "collapsed": false
   }
  },
  {
   "cell_type": "markdown",
   "source": [
    "### 1.3 Split Input Output"
   ],
   "metadata": {
    "collapsed": false
   }
  },
  {
   "cell_type": "code",
   "execution_count": 8,
   "outputs": [
    {
     "name": "stdout",
     "output_type": "stream",
     "text": [
      "(X) Input shape: (32581, 11)\n",
      "(y) Output shape: (32581,)\n"
     ]
    }
   ],
   "source": [
    "X, y = utils.split_input_output(data, TARGET_COL)"
   ],
   "metadata": {
    "collapsed": false
   }
  },
  {
   "cell_type": "markdown",
   "source": [
    "### 1.4 Split Train, Test, Validation Sets"
   ],
   "metadata": {
    "collapsed": false
   }
  },
  {
   "cell_type": "code",
   "execution_count": 9,
   "outputs": [],
   "source": [
    "X_train, X_temp, y_train, y_temp, ratio_train, _ = utils.split_train_test(X, y,\n",
    "                                                    test_size=0.2, seed=123, stratify=y)\n",
    "\n",
    "X_valid, X_test, y_valid, y_test, ratio_valid, ratio_test = utils.split_train_test(X_temp, y_temp,\n",
    "                                                    test_size=0.5, seed=123, stratify=y_temp)"
   ],
   "metadata": {
    "collapsed": false
   }
  },
  {
   "cell_type": "markdown",
   "source": [
    " validation of set splits"
   ],
   "metadata": {
    "collapsed": false
   }
  },
  {
   "cell_type": "code",
   "execution_count": 10,
   "outputs": [
    {
     "name": "stdout",
     "output_type": "stream",
     "text": [
      "X train shape:(26064, 11) with portion of 0.8\n",
      "y train shape:(26064,) with portion of 0.8\n",
      "Ratio of target variable on train set: 0.28\n",
      "\n",
      "X valid shape: (3258, 11) with portion of 0.1\n",
      "y valid shape: (3258,) with portion of 0.1\n",
      "Ratio of target variable on train set: 0.28\n",
      "\n",
      "X test  shape: (3259, 11) with portion of 0.1\n",
      "y test  shape: (3259,) with portion of 0.1\n",
      "Ratio of target variable on train set: 0.28\n"
     ]
    }
   ],
   "source": [
    "print(f\"X train shape:{X_train.shape} with portion of {round(len(X_train) / len(X),4)}\")\n",
    "print(f\"y train shape:{y_train.shape} with portion of {round(len(y_train) / len(y),4)}\")\n",
    "print(f\"Ratio of target variable on train set: {ratio_train:.2f}\")\n",
    "print(\"\")\n",
    "\n",
    "print(f\"X valid shape: {X_valid.shape} with portion of {round(len(X_valid) / len(X),4)}\")\n",
    "print(f\"y valid shape: {y_valid.shape} with portion of {round(len(y_valid) / len(y),4)}\")\n",
    "print(f\"Ratio of target variable on train set: {ratio_valid:.2f}\")\n",
    "print(\"\")\n",
    "\n",
    "print(f\"X test  shape: {X_test.shape} with portion of {round(len(X_test) / len(X),4)}\")\n",
    "print(f\"y test  shape: {y_test.shape} with portion of {round(len(y_test) / len(y),4)}\")\n",
    "print(f\"Ratio of target variable on train set: {ratio_test:.2f}\")"
   ],
   "metadata": {
    "collapsed": false
   }
  },
  {
   "cell_type": "code",
   "execution_count": 11,
   "outputs": [
    {
     "data": {
      "text/plain": "       person_age  person_income person_home_ownership  person_emp_length  \\\n29762          45          37500              MORTGAGE                1.0   \n2714           25          50000                  RENT                5.0   \n50             24          78000                  RENT                4.0   \n28458          31          78504                  RENT                2.0   \n\n             loan_intent loan_grade  loan_amnt  loan_int_rate  \\\n29762  DEBTCONSOLIDATION          B       5000          11.49   \n2714            PERSONAL          A      12000           7.88   \n50     DEBTCONSOLIDATION          D      30000            NaN   \n28458          EDUCATION          C      10000          11.41   \n\n       loan_percent_income cb_person_default_on_file  \\\n29762                 0.13                         N   \n2714                  0.24                         N   \n50                    0.38                         Y   \n28458                 0.13                         N   \n\n       cb_person_cred_hist_length  \n29762                          16  \n2714                            2  \n50                              4  \n28458                           7  ",
      "text/html": "<div>\n<style scoped>\n    .dataframe tbody tr th:only-of-type {\n        vertical-align: middle;\n    }\n\n    .dataframe tbody tr th {\n        vertical-align: top;\n    }\n\n    .dataframe thead th {\n        text-align: right;\n    }\n</style>\n<table border=\"1\" class=\"dataframe\">\n  <thead>\n    <tr style=\"text-align: right;\">\n      <th></th>\n      <th>person_age</th>\n      <th>person_income</th>\n      <th>person_home_ownership</th>\n      <th>person_emp_length</th>\n      <th>loan_intent</th>\n      <th>loan_grade</th>\n      <th>loan_amnt</th>\n      <th>loan_int_rate</th>\n      <th>loan_percent_income</th>\n      <th>cb_person_default_on_file</th>\n      <th>cb_person_cred_hist_length</th>\n    </tr>\n  </thead>\n  <tbody>\n    <tr>\n      <th>29762</th>\n      <td>45</td>\n      <td>37500</td>\n      <td>MORTGAGE</td>\n      <td>1.0</td>\n      <td>DEBTCONSOLIDATION</td>\n      <td>B</td>\n      <td>5000</td>\n      <td>11.49</td>\n      <td>0.13</td>\n      <td>N</td>\n      <td>16</td>\n    </tr>\n    <tr>\n      <th>2714</th>\n      <td>25</td>\n      <td>50000</td>\n      <td>RENT</td>\n      <td>5.0</td>\n      <td>PERSONAL</td>\n      <td>A</td>\n      <td>12000</td>\n      <td>7.88</td>\n      <td>0.24</td>\n      <td>N</td>\n      <td>2</td>\n    </tr>\n    <tr>\n      <th>50</th>\n      <td>24</td>\n      <td>78000</td>\n      <td>RENT</td>\n      <td>4.0</td>\n      <td>DEBTCONSOLIDATION</td>\n      <td>D</td>\n      <td>30000</td>\n      <td>NaN</td>\n      <td>0.38</td>\n      <td>Y</td>\n      <td>4</td>\n    </tr>\n    <tr>\n      <th>28458</th>\n      <td>31</td>\n      <td>78504</td>\n      <td>RENT</td>\n      <td>2.0</td>\n      <td>EDUCATION</td>\n      <td>C</td>\n      <td>10000</td>\n      <td>11.41</td>\n      <td>0.13</td>\n      <td>N</td>\n      <td>7</td>\n    </tr>\n  </tbody>\n</table>\n</div>"
     },
     "execution_count": 11,
     "metadata": {},
     "output_type": "execute_result"
    }
   ],
   "source": [
    "X_train.head(4)"
   ],
   "metadata": {
    "collapsed": false
   }
  },
  {
   "cell_type": "code",
   "execution_count": 12,
   "outputs": [
    {
     "data": {
      "text/plain": "       person_age  person_income person_home_ownership  person_emp_length  \\\n25980          31          62000                  RENT                2.0   \n13630          23          95000              MORTGAGE                8.0   \n16921          26         126000              MORTGAGE                4.0   \n22683          29          57000              MORTGAGE                4.0   \n\n             loan_intent loan_grade  loan_amnt  loan_int_rate  \\\n25980           PERSONAL          B      12800           9.62   \n13630            MEDICAL          C       7200          14.79   \n16921  DEBTCONSOLIDATION          C       7500          13.92   \n22683            MEDICAL          A       2500           6.76   \n\n       loan_percent_income cb_person_default_on_file  \\\n25980                 0.21                         N   \n13630                 0.08                         Y   \n16921                 0.06                         N   \n22683                 0.04                         N   \n\n       cb_person_cred_hist_length  \n25980                           7  \n13630                           4  \n16921                           2  \n22683                           7  ",
      "text/html": "<div>\n<style scoped>\n    .dataframe tbody tr th:only-of-type {\n        vertical-align: middle;\n    }\n\n    .dataframe tbody tr th {\n        vertical-align: top;\n    }\n\n    .dataframe thead th {\n        text-align: right;\n    }\n</style>\n<table border=\"1\" class=\"dataframe\">\n  <thead>\n    <tr style=\"text-align: right;\">\n      <th></th>\n      <th>person_age</th>\n      <th>person_income</th>\n      <th>person_home_ownership</th>\n      <th>person_emp_length</th>\n      <th>loan_intent</th>\n      <th>loan_grade</th>\n      <th>loan_amnt</th>\n      <th>loan_int_rate</th>\n      <th>loan_percent_income</th>\n      <th>cb_person_default_on_file</th>\n      <th>cb_person_cred_hist_length</th>\n    </tr>\n  </thead>\n  <tbody>\n    <tr>\n      <th>25980</th>\n      <td>31</td>\n      <td>62000</td>\n      <td>RENT</td>\n      <td>2.0</td>\n      <td>PERSONAL</td>\n      <td>B</td>\n      <td>12800</td>\n      <td>9.62</td>\n      <td>0.21</td>\n      <td>N</td>\n      <td>7</td>\n    </tr>\n    <tr>\n      <th>13630</th>\n      <td>23</td>\n      <td>95000</td>\n      <td>MORTGAGE</td>\n      <td>8.0</td>\n      <td>MEDICAL</td>\n      <td>C</td>\n      <td>7200</td>\n      <td>14.79</td>\n      <td>0.08</td>\n      <td>Y</td>\n      <td>4</td>\n    </tr>\n    <tr>\n      <th>16921</th>\n      <td>26</td>\n      <td>126000</td>\n      <td>MORTGAGE</td>\n      <td>4.0</td>\n      <td>DEBTCONSOLIDATION</td>\n      <td>C</td>\n      <td>7500</td>\n      <td>13.92</td>\n      <td>0.06</td>\n      <td>N</td>\n      <td>2</td>\n    </tr>\n    <tr>\n      <th>22683</th>\n      <td>29</td>\n      <td>57000</td>\n      <td>MORTGAGE</td>\n      <td>4.0</td>\n      <td>MEDICAL</td>\n      <td>A</td>\n      <td>2500</td>\n      <td>6.76</td>\n      <td>0.04</td>\n      <td>N</td>\n      <td>7</td>\n    </tr>\n  </tbody>\n</table>\n</div>"
     },
     "execution_count": 12,
     "metadata": {},
     "output_type": "execute_result"
    }
   ],
   "source": [
    "X_valid.head(4)"
   ],
   "metadata": {
    "collapsed": false
   }
  },
  {
   "cell_type": "code",
   "execution_count": 13,
   "outputs": [
    {
     "data": {
      "text/plain": "       person_age  person_income person_home_ownership  person_emp_length  \\\n22990          29          34000                  RENT                6.0   \n30233          38          48000                  RENT                7.0   \n27415          30         140000              MORTGAGE                6.0   \n17372          24          95000                   OWN                4.0   \n\n             loan_intent loan_grade  loan_amnt  loan_int_rate  \\\n22990  DEBTCONSOLIDATION          D       8000          16.77   \n30233            MEDICAL          B       6000            NaN   \n27415           PERSONAL          A       5000           8.90   \n17372           PERSONAL          C      10000          15.23   \n\n       loan_percent_income cb_person_default_on_file  \\\n22990                 0.24                         Y   \n30233                 0.13                         N   \n27415                 0.04                         N   \n17372                 0.11                         N   \n\n       cb_person_cred_hist_length  \n22990                          10  \n30233                          17  \n27415                           6  \n17372                           4  ",
      "text/html": "<div>\n<style scoped>\n    .dataframe tbody tr th:only-of-type {\n        vertical-align: middle;\n    }\n\n    .dataframe tbody tr th {\n        vertical-align: top;\n    }\n\n    .dataframe thead th {\n        text-align: right;\n    }\n</style>\n<table border=\"1\" class=\"dataframe\">\n  <thead>\n    <tr style=\"text-align: right;\">\n      <th></th>\n      <th>person_age</th>\n      <th>person_income</th>\n      <th>person_home_ownership</th>\n      <th>person_emp_length</th>\n      <th>loan_intent</th>\n      <th>loan_grade</th>\n      <th>loan_amnt</th>\n      <th>loan_int_rate</th>\n      <th>loan_percent_income</th>\n      <th>cb_person_default_on_file</th>\n      <th>cb_person_cred_hist_length</th>\n    </tr>\n  </thead>\n  <tbody>\n    <tr>\n      <th>22990</th>\n      <td>29</td>\n      <td>34000</td>\n      <td>RENT</td>\n      <td>6.0</td>\n      <td>DEBTCONSOLIDATION</td>\n      <td>D</td>\n      <td>8000</td>\n      <td>16.77</td>\n      <td>0.24</td>\n      <td>Y</td>\n      <td>10</td>\n    </tr>\n    <tr>\n      <th>30233</th>\n      <td>38</td>\n      <td>48000</td>\n      <td>RENT</td>\n      <td>7.0</td>\n      <td>MEDICAL</td>\n      <td>B</td>\n      <td>6000</td>\n      <td>NaN</td>\n      <td>0.13</td>\n      <td>N</td>\n      <td>17</td>\n    </tr>\n    <tr>\n      <th>27415</th>\n      <td>30</td>\n      <td>140000</td>\n      <td>MORTGAGE</td>\n      <td>6.0</td>\n      <td>PERSONAL</td>\n      <td>A</td>\n      <td>5000</td>\n      <td>8.90</td>\n      <td>0.04</td>\n      <td>N</td>\n      <td>6</td>\n    </tr>\n    <tr>\n      <th>17372</th>\n      <td>24</td>\n      <td>95000</td>\n      <td>OWN</td>\n      <td>4.0</td>\n      <td>PERSONAL</td>\n      <td>C</td>\n      <td>10000</td>\n      <td>15.23</td>\n      <td>0.11</td>\n      <td>N</td>\n      <td>4</td>\n    </tr>\n  </tbody>\n</table>\n</div>"
     },
     "execution_count": 13,
     "metadata": {},
     "output_type": "execute_result"
    }
   ],
   "source": [
    "X_test.head(4)"
   ],
   "metadata": {
    "collapsed": false
   }
  },
  {
   "cell_type": "markdown",
   "source": [
    "## serialize data"
   ],
   "metadata": {
    "collapsed": false
   }
  },
  {
   "cell_type": "markdown",
   "source": [
    "serialize sets into pickle file"
   ],
   "metadata": {
    "collapsed": false
   }
  },
  {
   "cell_type": "code",
   "execution_count": 14,
   "outputs": [],
   "source": [
    "list_data = [X_train, X_valid, X_test, y_train, y_valid, y_test]\n",
    "list_path = [X_TRAIN_PATH, X_VALID_PATH, X_TEST_PATH, y_TRAIN_PATH, y_VALID_PATH, y_TEST_PATH]"
   ],
   "metadata": {
    "collapsed": false
   }
  },
  {
   "cell_type": "code",
   "execution_count": 15,
   "outputs": [],
   "source": [
    "for i, set in enumerate(list_data):\n",
    "    utils.serialize_data(set, list_path[i])"
   ],
   "metadata": {
    "collapsed": false
   }
  },
  {
   "cell_type": "code",
   "execution_count": 15,
   "outputs": [],
   "source": [],
   "metadata": {
    "collapsed": false
   }
  }
 ],
 "metadata": {
  "kernelspec": {
   "display_name": "Python 3",
   "language": "python",
   "name": "python3"
  },
  "language_info": {
   "codemirror_mode": {
    "name": "ipython",
    "version": 2
   },
   "file_extension": ".py",
   "mimetype": "text/x-python",
   "name": "python",
   "nbconvert_exporter": "python",
   "pygments_lexer": "ipython2",
   "version": "2.7.6"
  }
 },
 "nbformat": 4,
 "nbformat_minor": 0
}
