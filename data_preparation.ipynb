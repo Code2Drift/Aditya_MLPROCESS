{
 "cells": [
  {
   "cell_type": "code",
   "execution_count": 52,
   "metadata": {
    "collapsed": true
   },
   "outputs": [],
   "source": [
    "import numpy as np\n",
    "import pandas as pd\n",
    "import matplotlib.pyplot as plt\n",
    "from copy import deepcopy\n",
    "import seaborn as sns\n",
    "from imblearn.over_sampling import RandomOverSampler\n",
    "import yaml\n",
    "import os"
   ]
  },
  {
   "cell_type": "code",
   "execution_count": 53,
   "outputs": [
    {
     "name": "stdout",
     "output_type": "stream",
     "text": [
      "{'data_source': {'raw_file': 'E:\\\\01_Programming\\\\Py\\\\Aditya_MLPROCESS\\\\data\\\\00_raw\\\\credit_risk_dataset.csv', 'column_names': '', 'drop_columns': '', 'target_name': '', 'test_size': '', 'random_state': ''}}\n"
     ]
    }
   ],
   "source": [
    "## load configuration file\n",
    "config = yaml.safe_load(open(\"config.yaml\"))\n",
    "root_path = os.getcwd()\n",
    "print(config)"
   ],
   "metadata": {
    "collapsed": false
   }
  },
  {
   "cell_type": "markdown",
   "source": [
    "**Below is an overview of dataset features**\n",
    "\n",
    "```\n",
    "# This is formatted as code\n",
    "      Column                      #count          #type   # description\n",
    "      -----------------------     --------------  ------  -----------------\n",
    " 1.   person_age                  32416 non-null  int64   : Age\n",
    "\n",
    " 2.   person_income               32416 non-null  int64   : Annual Income\n",
    "\n",
    " 3.   person_home_ownership       32416 non-null  object  : Status of home ownership (cat)\n",
    "\n",
    " 4.   person_emp_length           31529 non-null  float64 : Person employment length (years)\n",
    "\n",
    " 5.   loan_intent                 32416 non-null  object  : Loan intention (Cat)\n",
    "\n",
    " 6.   loan_grade                  32416 non-null  object  : Loan Grade (A-F)\n",
    "\n",
    " 7.   loan_amnt                   32416 non-null  int64   : Loan amount (USD)\n",
    "\n",
    " 8.   loan_int_rate               29321 non-null  float64 : Interest rate (%)\n",
    "\n",
    " 9.   loan_status                 32416 non-null  int64   : 0-> non-default, 1-> default\n",
    "\n",
    " 10.  loan_percent_income         32416 non-null  float64 : loan-income ratio (0-1)\n",
    "\n",
    " 11.  cb_person_default_on_file   32416 non-null  object  : historical default (T / F)\n",
    "\n",
    " 12.  cb_person_cred_hist_length  32416 non-null  int64   : credit history length (in years?)\n",
    "```"
   ],
   "metadata": {
    "collapsed": false
   }
  },
  {
   "cell_type": "code",
   "execution_count": 54,
   "outputs": [],
   "source": [
    "## functions\n",
    "def load_data(fname: pd.DataFrame):\n",
    "    \"\"\"\n",
    "    load credit risk data and delete duplicates.\n",
    "    functions also spew validation statement after dropping duplicates\n",
    "    \"\"\"\n",
    "    data = pd.read_csv(fname)\n",
    "    data_copy = deepcopy(data)\n",
    "    data_copy.drop_duplicates(inplace=True)\n",
    "\n",
    "    '''validation'''\n",
    "    print(f\"Data before dropping shape: {data.shape}\")\n",
    "    print(f\"Data after dropping shape: {data_copy.shape}\")\n",
    "\n",
    "    return data\n",
    "\n",
    "def percent_missing_values(dataframe):\n",
    "    \"\"\"\n",
    "    Calculate the percentage of missing values in each column of a DataFrame.\n",
    "    \"\"\"\n",
    "    missing_value_info = []  # List to store missing value information\n",
    "\n",
    "    for col in dataframe.columns:\n",
    "        # catch missing value type na, None and \"\"\n",
    "        missing_values = dataframe[col].isna().sum() + \\\n",
    "                         dataframe[col].eq(None).sum() + \\\n",
    "                         (dataframe[col] == '').sum()\n",
    "\n",
    "        # calculate percentage of missing per colum\n",
    "        percentage_missing = (missing_values / len(dataframe)) * 100\n",
    "        print(f\"{round(percentage_missing, 2)}% missing values of {col}\") ; print(\"\")\n",
    "\n",
    "def split_input_output(data, target_col):\n",
    "  \"\"\"\n",
    "  :param DataFrame data: targeted DataFrame\n",
    "  :param str target_col: collumns to be dropped\n",
    "  \"\"\"\n",
    "  y = data[target_col]\n",
    "  X = data.drop(target_col, axis=1)\n",
    "\n",
    "  # print out data shape\n",
    "  print(f\"(X) Input shape: {X.shape}\")\n",
    "  print(f\"(y) Output shape: {y.shape}\")\n",
    "\n",
    "  return X, y\n",
    "\n",
    "def split_train_test(input, output, test_size, seed, stratify):\n",
    "\n",
    "  from sklearn.model_selection import train_test_split\n",
    "\n",
    "  # first batch Train and temp\n",
    "  X_train, X_temp, y_train, y_temp = train_test_split(input, output,\n",
    "                                                              test_size=test_size,\n",
    "                                                              random_state=seed,\n",
    "                                                              stratify=stratify)\n",
    "  ## train ratio\n",
    "  list_class_train = y_train.value_counts().to_list()\n",
    "  ratio_train = list_class_train[1] / list_class_train[0]\n",
    "\n",
    "    ## train ratio\n",
    "  list_class_temp = y_temp.value_counts().to_list()\n",
    "  ratio_temp = list_class_temp[1] / list_class_temp[0]\n",
    "\n",
    "  return X_train, X_temp, y_train, y_temp, ratio_train, ratio_temp"
   ],
   "metadata": {
    "collapsed": false
   }
  },
  {
   "cell_type": "code",
   "execution_count": 55,
   "outputs": [
    {
     "name": "stdout",
     "output_type": "stream",
     "text": [
      "Data before dropping shape: (32581, 12)\n",
      "Data after dropping shape: (32416, 12)\n"
     ]
    },
    {
     "data": {
      "text/plain": "   person_age  person_income person_home_ownership  person_emp_length  \\\n0          22          59000                  RENT              123.0   \n1          21           9600                   OWN                5.0   \n2          25           9600              MORTGAGE                1.0   \n3          23          65500                  RENT                4.0   \n4          24          54400                  RENT                8.0   \n\n  loan_intent loan_grade  loan_amnt  loan_int_rate  loan_status  \\\n0    PERSONAL          D      35000          16.02            1   \n1   EDUCATION          B       1000          11.14            0   \n2     MEDICAL          C       5500          12.87            1   \n3     MEDICAL          C      35000          15.23            1   \n4     MEDICAL          C      35000          14.27            1   \n\n   loan_percent_income cb_person_default_on_file  cb_person_cred_hist_length  \n0                 0.59                         Y                           3  \n1                 0.10                         N                           2  \n2                 0.57                         N                           3  \n3                 0.53                         N                           2  \n4                 0.55                         Y                           4  ",
      "text/html": "<div>\n<style scoped>\n    .dataframe tbody tr th:only-of-type {\n        vertical-align: middle;\n    }\n\n    .dataframe tbody tr th {\n        vertical-align: top;\n    }\n\n    .dataframe thead th {\n        text-align: right;\n    }\n</style>\n<table border=\"1\" class=\"dataframe\">\n  <thead>\n    <tr style=\"text-align: right;\">\n      <th></th>\n      <th>person_age</th>\n      <th>person_income</th>\n      <th>person_home_ownership</th>\n      <th>person_emp_length</th>\n      <th>loan_intent</th>\n      <th>loan_grade</th>\n      <th>loan_amnt</th>\n      <th>loan_int_rate</th>\n      <th>loan_status</th>\n      <th>loan_percent_income</th>\n      <th>cb_person_default_on_file</th>\n      <th>cb_person_cred_hist_length</th>\n    </tr>\n  </thead>\n  <tbody>\n    <tr>\n      <th>0</th>\n      <td>22</td>\n      <td>59000</td>\n      <td>RENT</td>\n      <td>123.0</td>\n      <td>PERSONAL</td>\n      <td>D</td>\n      <td>35000</td>\n      <td>16.02</td>\n      <td>1</td>\n      <td>0.59</td>\n      <td>Y</td>\n      <td>3</td>\n    </tr>\n    <tr>\n      <th>1</th>\n      <td>21</td>\n      <td>9600</td>\n      <td>OWN</td>\n      <td>5.0</td>\n      <td>EDUCATION</td>\n      <td>B</td>\n      <td>1000</td>\n      <td>11.14</td>\n      <td>0</td>\n      <td>0.10</td>\n      <td>N</td>\n      <td>2</td>\n    </tr>\n    <tr>\n      <th>2</th>\n      <td>25</td>\n      <td>9600</td>\n      <td>MORTGAGE</td>\n      <td>1.0</td>\n      <td>MEDICAL</td>\n      <td>C</td>\n      <td>5500</td>\n      <td>12.87</td>\n      <td>1</td>\n      <td>0.57</td>\n      <td>N</td>\n      <td>3</td>\n    </tr>\n    <tr>\n      <th>3</th>\n      <td>23</td>\n      <td>65500</td>\n      <td>RENT</td>\n      <td>4.0</td>\n      <td>MEDICAL</td>\n      <td>C</td>\n      <td>35000</td>\n      <td>15.23</td>\n      <td>1</td>\n      <td>0.53</td>\n      <td>N</td>\n      <td>2</td>\n    </tr>\n    <tr>\n      <th>4</th>\n      <td>24</td>\n      <td>54400</td>\n      <td>RENT</td>\n      <td>8.0</td>\n      <td>MEDICAL</td>\n      <td>C</td>\n      <td>35000</td>\n      <td>14.27</td>\n      <td>1</td>\n      <td>0.55</td>\n      <td>Y</td>\n      <td>4</td>\n    </tr>\n  </tbody>\n</table>\n</div>"
     },
     "execution_count": 55,
     "metadata": {},
     "output_type": "execute_result"
    }
   ],
   "source": [
    "fname = config['data_source']['raw_file']\n",
    "data = load_data(fname)\n",
    "data.head(5)"
   ],
   "metadata": {
    "collapsed": false
   }
  },
  {
   "cell_type": "markdown",
   "source": [
    "## Data preparation steps:\n",
    "\n",
    "1. Insight on missing value\n",
    "2. Class distribution\n",
    "3. Split input"
   ],
   "metadata": {
    "collapsed": false
   }
  },
  {
   "cell_type": "code",
   "execution_count": 57,
   "outputs": [
    {
     "name": "stdout",
     "output_type": "stream",
     "text": [
      "0.0% missing values of person_age\n",
      "\n",
      "0.0% missing values of person_income\n",
      "\n",
      "0.0% missing values of person_home_ownership\n",
      "\n",
      "2.75% missing values of person_emp_length\n",
      "\n",
      "0.0% missing values of loan_intent\n",
      "\n",
      "0.0% missing values of loan_grade\n",
      "\n",
      "0.0% missing values of loan_amnt\n",
      "\n",
      "9.56% missing values of loan_int_rate\n",
      "\n",
      "0.0% missing values of loan_status\n",
      "\n",
      "0.0% missing values of loan_percent_income\n",
      "\n",
      "0.0% missing values of cb_person_default_on_file\n",
      "\n",
      "0.0% missing values of cb_person_cred_hist_length\n",
      "\n"
     ]
    }
   ],
   "source": [
    "percent_missing_values(data)"
   ],
   "metadata": {
    "collapsed": false
   }
  },
  {
   "cell_type": "code",
   "execution_count": 58,
   "outputs": [
    {
     "data": {
      "text/plain": "person_age                       0\nperson_income                    0\nperson_home_ownership            0\nperson_emp_length              895\nloan_intent                      0\nloan_grade                       0\nloan_amnt                        0\nloan_int_rate                 3116\nloan_status                      0\nloan_percent_income              0\ncb_person_default_on_file        0\ncb_person_cred_hist_length       0\ndtype: int64"
     },
     "execution_count": 58,
     "metadata": {},
     "output_type": "execute_result"
    }
   ],
   "source": [
    "data.isna().sum()"
   ],
   "metadata": {
    "collapsed": false
   }
  },
  {
   "cell_type": "markdown",
   "source": [
    "**Insights**\n",
    "\n",
    " -  There are some missing values in the feature `person_emp_length` and `loan_int_rate` both of which has a float variable. Therefore we have to consider imputation in numerical features.\n",
    "\n",
    " - There are no missing values for categorical features. Therefore, our pipeline only need encoding for these features."
   ],
   "metadata": {
    "collapsed": false
   }
  },
  {
   "cell_type": "code",
   "execution_count": 59,
   "outputs": [
    {
     "data": {
      "text/plain": "Text(0.5, 1.0, 'Count of Class Instances with Minor-Major Ratio (0.28)')"
     },
     "execution_count": 59,
     "metadata": {},
     "output_type": "execute_result"
    },
    {
     "data": {
      "text/plain": "<Figure size 640x480 with 1 Axes>",
      "image/png": "[encoded data removed]"
     },
     "metadata": {},
     "output_type": "display_data"
    }
   ],
   "source": [
    "target_counts = data['loan_status'].value_counts()\n",
    "\n",
    "sns.barplot(x=target_counts.index, y=target_counts.values)\n",
    "ratio= []\n",
    "labels = []\n",
    "\n",
    "for i, count in zip(target_counts.index, target_counts.values):\n",
    "    labels.append(f'{i}: {count}')\n",
    "    num_str = labels[i][3:]\n",
    "    num = int(num_str)\n",
    "    ratio.append(num)\n",
    "\n",
    "cls_ratio = round(min(ratio) / max(ratio), 2)\n",
    "plt.legend(title=\"# Observation\", labels=labels)\n",
    "plt.ylabel(\"# of instances\")\n",
    "plt.title(f\"Count of Class Instances with Minor-Major Ratio ({cls_ratio})\")"
   ],
   "metadata": {
    "collapsed": false
   }
  },
  {
   "cell_type": "code",
   "execution_count": null,
   "outputs": [],
   "source": [],
   "metadata": {
    "collapsed": false
   }
  },
  {
   "cell_type": "code",
   "execution_count": null,
   "outputs": [],
   "source": [],
   "metadata": {
    "collapsed": false
   }
  },
  {
   "cell_type": "markdown",
   "source": [
    "1. Class distribution\n",
    "2. Correlation of dependent and independent variables\n",
    "3. Assigning data types"
   ],
   "metadata": {
    "collapsed": false
   }
  },
  {
   "cell_type": "code",
   "execution_count": null,
   "outputs": [],
   "source": [],
   "metadata": {
    "collapsed": false
   }
  },
  {
   "cell_type": "code",
   "execution_count": null,
   "outputs": [],
   "source": [],
   "metadata": {
    "collapsed": false
   }
  },
  {
   "cell_type": "code",
   "execution_count": null,
   "outputs": [],
   "source": [],
   "metadata": {
    "collapsed": false
   }
  },
  {
   "cell_type": "code",
   "execution_count": null,
   "outputs": [],
   "source": [],
   "metadata": {
    "collapsed": false
   }
  },
  {
   "cell_type": "code",
   "execution_count": null,
   "outputs": [],
   "source": [],
   "metadata": {
    "collapsed": false
   }
  }
 ],
 "metadata": {
  "kernelspec": {
   "display_name": "Python 3",
   "language": "python",
   "name": "python3"
  },
  "language_info": {
   "codemirror_mode": {
    "name": "ipython",
    "version": 2
   },
   "file_extension": ".py",
   "mimetype": "text/x-python",
   "name": "python",
   "nbconvert_exporter": "python",
   "pygments_lexer": "ipython2",
   "version": "2.7.6"
  }
 },
 "nbformat": 4,
 "nbformat_minor": 0
}
