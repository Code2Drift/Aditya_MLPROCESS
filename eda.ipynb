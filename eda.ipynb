{
 "cells": [
  {
   "cell_type": "code",
   "execution_count": 11,
   "metadata": {
    "collapsed": true
   },
   "outputs": [],
   "source": [
    "\"\"\"Dependencies\"\"\"\n",
    "import numpy as np\n",
    "import pandas as pd\n",
    "import matplotlib.pyplot as plt\n",
    "from copy import deepcopy\n",
    "import seaborn as sns\n",
    "from imblearn.over_sampling import RandomOverSampler\n",
    "import yaml\n",
    "import os\n",
    "import sys\n",
    "sys.path.append(os.path.join(os.getcwd(), 'src'))\n",
    "import pickle\n",
    "import joblib\n",
    "import src.utils as utils"
   ]
  },
  {
   "cell_type": "code",
   "execution_count": 12,
   "outputs": [],
   "source": [
    "with open(\"config.yaml\", \"r\") as f:\n",
    "    config = yaml.safe_load(f)"
   ],
   "metadata": {
    "collapsed": false
   }
  },
  {
   "cell_type": "code",
   "execution_count": 13,
   "outputs": [],
   "source": [
    "\"\"\"Load Constant Variables\"\"\"\n",
    "\n",
    "TARGET_COL = config['data_source']['target_col']\n",
    "TEST_SZ = config['data_source']['test_size']\n",
    "SEED_ST = config['data_source']['random_state']\n",
    "NUM_COLS = config['data_source']['num_cols']\n",
    "CAT_COLS = config['data_source']['cat_cols']\n",
    "CORR_COLS = config['data_source']['corr_cols']\n",
    "X_TRAIN_PATH = config['pickle_path']['X_train']\n",
    "X_TEST_PATH = config['pickle_path']['X_test']\n",
    "X_VALID_PATH = config['pickle_path']['X_valid']\n",
    "y_TRAIN_PATH = config['pickle_path']['y_train']\n",
    "y_TEST_PATH = config['pickle_path']['y_test']\n",
    "y_VALID_PATH = config['pickle_path']['y_valid']"
   ],
   "metadata": {
    "collapsed": false
   }
  },
  {
   "cell_type": "code",
   "execution_count": 14,
   "outputs": [
    {
     "ename": "FileNotFoundError",
     "evalue": "[Errno 2] No such file or directory: 'E:/01_Programming/Py/Aditya_MLPROCESS/01_interim/X_train.pkl'",
     "output_type": "error",
     "traceback": [
      "\u001B[1;31m---------------------------------------------------------------------------\u001B[0m",
      "\u001B[1;31mFileNotFoundError\u001B[0m                         Traceback (most recent call last)",
      "Cell \u001B[1;32mIn[14], line 5\u001B[0m\n\u001B[0;32m      3\u001B[0m stock_list \u001B[38;5;241m=\u001B[39m [X_TRAIN_PATH, X_TEST_PATH, X_VALID_PATH, y_TRAIN_PATH, y_TEST_PATH, y_VALID_PATH]\n\u001B[0;32m      4\u001B[0m \u001B[38;5;28;01mfor\u001B[39;00m var_name, path \u001B[38;5;129;01min\u001B[39;00m \u001B[38;5;28mzip\u001B[39m(var_name, stock_list):\n\u001B[1;32m----> 5\u001B[0m     \u001B[38;5;28mglobals\u001B[39m()[var_name] \u001B[38;5;241m=\u001B[39m \u001B[43mutils\u001B[49m\u001B[38;5;241;43m.\u001B[39;49m\u001B[43mdeserialize_data\u001B[49m\u001B[43m(\u001B[49m\u001B[43mpath\u001B[49m\u001B[43m)\u001B[49m\n",
      "File \u001B[1;32mE:\\01_Programming\\Py\\Aditya_MLPROCESS\\src\\utils.py:81\u001B[0m, in \u001B[0;36mdeserialize_data\u001B[1;34m(path)\u001B[0m\n\u001B[0;32m     75\u001B[0m \u001B[38;5;28;01mdef\u001B[39;00m \u001B[38;5;21mdeserialize_data\u001B[39m(path):\n\u001B[0;32m     76\u001B[0m \u001B[38;5;250m    \u001B[39m\u001B[38;5;124;03m\"\"\"\u001B[39;00m\n\u001B[0;32m     77\u001B[0m \u001B[38;5;124;03m    open serialized data\u001B[39;00m\n\u001B[0;32m     78\u001B[0m \u001B[38;5;124;03m    :param path: specified path for pickle data\u001B[39;00m\n\u001B[0;32m     79\u001B[0m \u001B[38;5;124;03m    :return data: file / data specified by the path\u001B[39;00m\n\u001B[0;32m     80\u001B[0m \u001B[38;5;124;03m    \"\"\"\u001B[39;00m\n\u001B[1;32m---> 81\u001B[0m     data \u001B[38;5;241m=\u001B[39m \u001B[43mjoblib\u001B[49m\u001B[38;5;241;43m.\u001B[39;49m\u001B[43mload\u001B[49m\u001B[43m(\u001B[49m\u001B[43mpath\u001B[49m\u001B[43m)\u001B[49m\n\u001B[0;32m     82\u001B[0m     \u001B[38;5;28;01mreturn\u001B[39;00m data\n",
      "File \u001B[1;32mE:\\01_Programming\\Py\\Aditya_MLPROCESS\\Aditya_venv\\Lib\\site-packages\\joblib\\numpy_pickle.py:650\u001B[0m, in \u001B[0;36mload\u001B[1;34m(filename, mmap_mode)\u001B[0m\n\u001B[0;32m    648\u001B[0m         obj \u001B[38;5;241m=\u001B[39m _unpickle(fobj)\n\u001B[0;32m    649\u001B[0m \u001B[38;5;28;01melse\u001B[39;00m:\n\u001B[1;32m--> 650\u001B[0m     \u001B[38;5;28;01mwith\u001B[39;00m \u001B[38;5;28;43mopen\u001B[39;49m\u001B[43m(\u001B[49m\u001B[43mfilename\u001B[49m\u001B[43m,\u001B[49m\u001B[43m \u001B[49m\u001B[38;5;124;43m'\u001B[39;49m\u001B[38;5;124;43mrb\u001B[39;49m\u001B[38;5;124;43m'\u001B[39;49m\u001B[43m)\u001B[49m \u001B[38;5;28;01mas\u001B[39;00m f:\n\u001B[0;32m    651\u001B[0m         \u001B[38;5;28;01mwith\u001B[39;00m _read_fileobject(f, filename, mmap_mode) \u001B[38;5;28;01mas\u001B[39;00m fobj:\n\u001B[0;32m    652\u001B[0m             \u001B[38;5;28;01mif\u001B[39;00m \u001B[38;5;28misinstance\u001B[39m(fobj, \u001B[38;5;28mstr\u001B[39m):\n\u001B[0;32m    653\u001B[0m                 \u001B[38;5;66;03m# if the returned file object is a string, this means we\u001B[39;00m\n\u001B[0;32m    654\u001B[0m                 \u001B[38;5;66;03m# try to load a pickle file generated with an version of\u001B[39;00m\n\u001B[0;32m    655\u001B[0m                 \u001B[38;5;66;03m# Joblib so we load it with joblib compatibility function.\u001B[39;00m\n",
      "\u001B[1;31mFileNotFoundError\u001B[0m: [Errno 2] No such file or directory: 'E:/01_Programming/Py/Aditya_MLPROCESS/01_interim/X_train.pkl'"
     ]
    }
   ],
   "source": [
    "\"\"\"Desirialize Pickle Data\"\"\"\n",
    "var_name = [\"X_train\", \"X_test\", \"X_valid\", \"y_train\", \"y_test\", \"y_valid\"]\n",
    "stock_list = [X_TRAIN_PATH, X_TEST_PATH, X_VALID_PATH, y_TRAIN_PATH, y_TEST_PATH, y_VALID_PATH]\n",
    "for var_name, path in zip(var_name, stock_list):\n",
    "    globals()[var_name] = utils.deserialize_data(path)"
   ],
   "metadata": {
    "collapsed": false
   }
  },
  {
   "cell_type": "code",
   "execution_count": null,
   "outputs": [],
   "source": [],
   "metadata": {
    "collapsed": false
   }
  }
 ],
 "metadata": {
  "kernelspec": {
   "display_name": "Python 3",
   "language": "python",
   "name": "python3"
  },
  "language_info": {
   "codemirror_mode": {
    "name": "ipython",
    "version": 2
   },
   "file_extension": ".py",
   "mimetype": "text/x-python",
   "name": "python",
   "nbconvert_exporter": "python",
   "pygments_lexer": "ipython2",
   "version": "2.7.6"
  }
 },
 "nbformat": 4,
 "nbformat_minor": 0
}
