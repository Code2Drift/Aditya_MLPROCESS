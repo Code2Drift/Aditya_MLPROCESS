{
 "cells": [
  {
   "cell_type": "code",
   "execution_count": 3,
   "metadata": {
    "collapsed": true
   },
   "outputs": [],
   "source": [
    "####\n",
    "import numpy as np\n",
    "import pandas as pd\n",
    "import matplotlib.pyplot as plt\n",
    "from copy import deepcopy\n",
    "import seaborn as sns\n",
    "from imblearn.over_sampling import RandomOverSampler\n",
    "import yaml\n",
    "import pickle\n",
    "import joblib\n",
    "import os\n",
    "import src.utils as utils\n",
    "import importlib\n",
    "importlib.reload(utils)\n",
    "\n",
    "## load configuration file\n",
    "with open(\"config.yaml\", \"r\") as f:\n",
    "    config = yaml.safe_load(f)\n",
    "root_path = os.getcwd()"
   ]
  },
  {
   "cell_type": "code",
   "execution_count": 7,
   "outputs": [],
   "source": [
    "## load constant variables\n",
    "TARGET_COL = config['data_source']['target_col']\n",
    "TEST_SZ = config['data_source']['test_size']\n",
    "SEED_ST = config['data_source']['random_state']\n",
    "NUM_COLS = config['data_source']['num_cols']\n",
    "CAT_COLS = config['data_source']['cat_cols']\n",
    "CORR_COLS = config['data_source']['corr_cols']\n",
    "\n",
    "## data\n",
    "X_TRAIN_PATH = config['processed_files']['X_train']\n",
    "X_TEST_PATH = config['processed_files']['X_test']\n",
    "X_VALID_PATH = config['processed_files']['X_valid']\n",
    "y_TRAIN_PATH = config['processed_files']['y_train']\n",
    "y_TEST_PATH = config['processed_files']['y_test']\n",
    "y_VALID_PATH = config['processed_files']['y_valid']\n",
    "\n",
    "## Desirialize Pickle Data\n",
    "var_name = [\"X_train_prep\", \"X_test_prep\", \"X_valid_prep\", \"y_train_prep\", \"y_test_prep\", \"y_valid_prep\"]\n",
    "stock_list = [X_TRAIN_PATH, X_TEST_PATH, X_VALID_PATH, y_TRAIN_PATH, y_TEST_PATH, y_VALID_PATH]\n",
    "for var_name, path in zip(var_name, stock_list):\n",
    "    globals()[var_name] = utils.deserialize_data(path)"
   ],
   "metadata": {
    "collapsed": false
   }
  },
  {
   "cell_type": "code",
   "execution_count": 8,
   "outputs": [
    {
     "data": {
      "text/plain": "       person_age  person_income  person_emp_length  loan_amnt  loan_int_rate  \\\n29762          45          37500                1.0       5000          11.49   \n2714           25          50000                5.0      12000           7.88   \n50             24          78000                4.0      30000          10.99   \n28458          31          78504                2.0      10000          11.41   \n3674           26          14000                2.0       4000          10.99   \n...           ...            ...                ...        ...            ...   \n7647           22          47000                3.0       6850          10.65   \n1120           22          40000                1.0      17000          10.65   \n19531          27          34000               12.0      10625          13.47   \n5581           26          74500                8.0       5000          11.36   \n615            22          44000                2.0      20000          15.68   \n\n       loan_percent_income  cb_person_cred_hist_length  \\\n29762                 0.13                          16   \n2714                  0.24                           2   \n50                    0.38                           4   \n28458                 0.13                           7   \n3674                  0.29                           3   \n...                    ...                         ...   \n7647                  0.15                           4   \n1120                  0.42                           4   \n19531                 0.31                          10   \n5581                  0.07                           2   \n615                   0.45                           4   \n\n       home_ownership_MORTGAGE  home_ownership_OTHER  home_ownership_OWN  ...  \\\n29762                      1.0                   0.0                 0.0  ...   \n2714                       0.0                   0.0                 0.0  ...   \n50                         0.0                   0.0                 0.0  ...   \n28458                      0.0                   0.0                 0.0  ...   \n3674                       0.0                   0.0                 0.0  ...   \n...                        ...                   ...                 ...  ...   \n7647                       0.0                   0.0                 0.0  ...   \n1120                       0.0                   0.0                 0.0  ...   \n19531                      1.0                   0.0                 0.0  ...   \n5581                       0.0                   0.0                 0.0  ...   \n615                        0.0                   0.0                 0.0  ...   \n\n       loan_intent_VENTURE  loan_grade_A  loan_grade_B  loan_grade_C  \\\n29762                  0.0           0.0           1.0           0.0   \n2714                   0.0           1.0           0.0           0.0   \n50                     0.0           0.0           0.0           0.0   \n28458                  0.0           0.0           0.0           1.0   \n3674                   1.0           0.0           1.0           0.0   \n...                    ...           ...           ...           ...   \n7647                   0.0           0.0           1.0           0.0   \n1120                   0.0           0.0           1.0           0.0   \n19531                  1.0           0.0           0.0           1.0   \n5581                   1.0           0.0           1.0           0.0   \n615                    0.0           0.0           0.0           0.0   \n\n       loan_grade_D  loan_grade_E  loan_grade_F  loan_grade_G  \\\n29762           0.0           0.0           0.0           0.0   \n2714            0.0           0.0           0.0           0.0   \n50              1.0           0.0           0.0           0.0   \n28458           0.0           0.0           0.0           0.0   \n3674            0.0           0.0           0.0           0.0   \n...             ...           ...           ...           ...   \n7647            0.0           0.0           0.0           0.0   \n1120            0.0           0.0           0.0           0.0   \n19531           0.0           0.0           0.0           0.0   \n5581            0.0           0.0           0.0           0.0   \n615             0.0           1.0           0.0           0.0   \n\n       default_onfile_N  default_onfile_Y  \n29762               1.0               0.0  \n2714                1.0               0.0  \n50                  0.0               1.0  \n28458               1.0               0.0  \n3674                1.0               0.0  \n...                 ...               ...  \n7647                1.0               0.0  \n1120                1.0               0.0  \n19531               0.0               1.0  \n5581                1.0               0.0  \n615                 1.0               0.0  \n\n[25954 rows x 26 columns]",
      "text/html": "<div>\n<style scoped>\n    .dataframe tbody tr th:only-of-type {\n        vertical-align: middle;\n    }\n\n    .dataframe tbody tr th {\n        vertical-align: top;\n    }\n\n    .dataframe thead th {\n        text-align: right;\n    }\n</style>\n<table border=\"1\" class=\"dataframe\">\n  <thead>\n    <tr style=\"text-align: right;\">\n      <th></th>\n      <th>person_age</th>\n      <th>person_income</th>\n      <th>person_emp_length</th>\n      <th>loan_amnt</th>\n      <th>loan_int_rate</th>\n      <th>loan_percent_income</th>\n      <th>cb_person_cred_hist_length</th>\n      <th>home_ownership_MORTGAGE</th>\n      <th>home_ownership_OTHER</th>\n      <th>home_ownership_OWN</th>\n      <th>...</th>\n      <th>loan_intent_VENTURE</th>\n      <th>loan_grade_A</th>\n      <th>loan_grade_B</th>\n      <th>loan_grade_C</th>\n      <th>loan_grade_D</th>\n      <th>loan_grade_E</th>\n      <th>loan_grade_F</th>\n      <th>loan_grade_G</th>\n      <th>default_onfile_N</th>\n      <th>default_onfile_Y</th>\n    </tr>\n  </thead>\n  <tbody>\n    <tr>\n      <th>29762</th>\n      <td>45</td>\n      <td>37500</td>\n      <td>1.0</td>\n      <td>5000</td>\n      <td>11.49</td>\n      <td>0.13</td>\n      <td>16</td>\n      <td>1.0</td>\n      <td>0.0</td>\n      <td>0.0</td>\n      <td>...</td>\n      <td>0.0</td>\n      <td>0.0</td>\n      <td>1.0</td>\n      <td>0.0</td>\n      <td>0.0</td>\n      <td>0.0</td>\n      <td>0.0</td>\n      <td>0.0</td>\n      <td>1.0</td>\n      <td>0.0</td>\n    </tr>\n    <tr>\n      <th>2714</th>\n      <td>25</td>\n      <td>50000</td>\n      <td>5.0</td>\n      <td>12000</td>\n      <td>7.88</td>\n      <td>0.24</td>\n      <td>2</td>\n      <td>0.0</td>\n      <td>0.0</td>\n      <td>0.0</td>\n      <td>...</td>\n      <td>0.0</td>\n      <td>1.0</td>\n      <td>0.0</td>\n      <td>0.0</td>\n      <td>0.0</td>\n      <td>0.0</td>\n      <td>0.0</td>\n      <td>0.0</td>\n      <td>1.0</td>\n      <td>0.0</td>\n    </tr>\n    <tr>\n      <th>50</th>\n      <td>24</td>\n      <td>78000</td>\n      <td>4.0</td>\n      <td>30000</td>\n      <td>10.99</td>\n      <td>0.38</td>\n      <td>4</td>\n      <td>0.0</td>\n      <td>0.0</td>\n      <td>0.0</td>\n      <td>...</td>\n      <td>0.0</td>\n      <td>0.0</td>\n      <td>0.0</td>\n      <td>0.0</td>\n      <td>1.0</td>\n      <td>0.0</td>\n      <td>0.0</td>\n      <td>0.0</td>\n      <td>0.0</td>\n      <td>1.0</td>\n    </tr>\n    <tr>\n      <th>28458</th>\n      <td>31</td>\n      <td>78504</td>\n      <td>2.0</td>\n      <td>10000</td>\n      <td>11.41</td>\n      <td>0.13</td>\n      <td>7</td>\n      <td>0.0</td>\n      <td>0.0</td>\n      <td>0.0</td>\n      <td>...</td>\n      <td>0.0</td>\n      <td>0.0</td>\n      <td>0.0</td>\n      <td>1.0</td>\n      <td>0.0</td>\n      <td>0.0</td>\n      <td>0.0</td>\n      <td>0.0</td>\n      <td>1.0</td>\n      <td>0.0</td>\n    </tr>\n    <tr>\n      <th>3674</th>\n      <td>26</td>\n      <td>14000</td>\n      <td>2.0</td>\n      <td>4000</td>\n      <td>10.99</td>\n      <td>0.29</td>\n      <td>3</td>\n      <td>0.0</td>\n      <td>0.0</td>\n      <td>0.0</td>\n      <td>...</td>\n      <td>1.0</td>\n      <td>0.0</td>\n      <td>1.0</td>\n      <td>0.0</td>\n      <td>0.0</td>\n      <td>0.0</td>\n      <td>0.0</td>\n      <td>0.0</td>\n      <td>1.0</td>\n      <td>0.0</td>\n    </tr>\n    <tr>\n      <th>...</th>\n      <td>...</td>\n      <td>...</td>\n      <td>...</td>\n      <td>...</td>\n      <td>...</td>\n      <td>...</td>\n      <td>...</td>\n      <td>...</td>\n      <td>...</td>\n      <td>...</td>\n      <td>...</td>\n      <td>...</td>\n      <td>...</td>\n      <td>...</td>\n      <td>...</td>\n      <td>...</td>\n      <td>...</td>\n      <td>...</td>\n      <td>...</td>\n      <td>...</td>\n      <td>...</td>\n    </tr>\n    <tr>\n      <th>7647</th>\n      <td>22</td>\n      <td>47000</td>\n      <td>3.0</td>\n      <td>6850</td>\n      <td>10.65</td>\n      <td>0.15</td>\n      <td>4</td>\n      <td>0.0</td>\n      <td>0.0</td>\n      <td>0.0</td>\n      <td>...</td>\n      <td>0.0</td>\n      <td>0.0</td>\n      <td>1.0</td>\n      <td>0.0</td>\n      <td>0.0</td>\n      <td>0.0</td>\n      <td>0.0</td>\n      <td>0.0</td>\n      <td>1.0</td>\n      <td>0.0</td>\n    </tr>\n    <tr>\n      <th>1120</th>\n      <td>22</td>\n      <td>40000</td>\n      <td>1.0</td>\n      <td>17000</td>\n      <td>10.65</td>\n      <td>0.42</td>\n      <td>4</td>\n      <td>0.0</td>\n      <td>0.0</td>\n      <td>0.0</td>\n      <td>...</td>\n      <td>0.0</td>\n      <td>0.0</td>\n      <td>1.0</td>\n      <td>0.0</td>\n      <td>0.0</td>\n      <td>0.0</td>\n      <td>0.0</td>\n      <td>0.0</td>\n      <td>1.0</td>\n      <td>0.0</td>\n    </tr>\n    <tr>\n      <th>19531</th>\n      <td>27</td>\n      <td>34000</td>\n      <td>12.0</td>\n      <td>10625</td>\n      <td>13.47</td>\n      <td>0.31</td>\n      <td>10</td>\n      <td>1.0</td>\n      <td>0.0</td>\n      <td>0.0</td>\n      <td>...</td>\n      <td>1.0</td>\n      <td>0.0</td>\n      <td>0.0</td>\n      <td>1.0</td>\n      <td>0.0</td>\n      <td>0.0</td>\n      <td>0.0</td>\n      <td>0.0</td>\n      <td>0.0</td>\n      <td>1.0</td>\n    </tr>\n    <tr>\n      <th>5581</th>\n      <td>26</td>\n      <td>74500</td>\n      <td>8.0</td>\n      <td>5000</td>\n      <td>11.36</td>\n      <td>0.07</td>\n      <td>2</td>\n      <td>0.0</td>\n      <td>0.0</td>\n      <td>0.0</td>\n      <td>...</td>\n      <td>1.0</td>\n      <td>0.0</td>\n      <td>1.0</td>\n      <td>0.0</td>\n      <td>0.0</td>\n      <td>0.0</td>\n      <td>0.0</td>\n      <td>0.0</td>\n      <td>1.0</td>\n      <td>0.0</td>\n    </tr>\n    <tr>\n      <th>615</th>\n      <td>22</td>\n      <td>44000</td>\n      <td>2.0</td>\n      <td>20000</td>\n      <td>15.68</td>\n      <td>0.45</td>\n      <td>4</td>\n      <td>0.0</td>\n      <td>0.0</td>\n      <td>0.0</td>\n      <td>...</td>\n      <td>0.0</td>\n      <td>0.0</td>\n      <td>0.0</td>\n      <td>0.0</td>\n      <td>0.0</td>\n      <td>1.0</td>\n      <td>0.0</td>\n      <td>0.0</td>\n      <td>1.0</td>\n      <td>0.0</td>\n    </tr>\n  </tbody>\n</table>\n<p>25954 rows × 26 columns</p>\n</div>"
     },
     "execution_count": 8,
     "metadata": {},
     "output_type": "execute_result"
    }
   ],
   "source": [
    "### testing\n",
    "X_train_prep"
   ],
   "metadata": {
    "collapsed": false
   }
  },
  {
   "cell_type": "code",
   "execution_count": null,
   "outputs": [],
   "source": [
    "ros = RandomOverSampler"
   ],
   "metadata": {
    "collapsed": false
   }
  },
  {
   "cell_type": "code",
   "execution_count": null,
   "outputs": [
    {
     "data": {
      "text/plain": "<Axes: ylabel='count'>"
     },
     "execution_count": 9,
     "metadata": {},
     "output_type": "execute_result"
    }
   ],
   "source": [
    "sns.countplot(y_train_prep)"
   ],
   "metadata": {
    "collapsed": false,
    "pycharm": {
     "is_executing": true
    }
   }
  },
  {
   "cell_type": "code",
   "execution_count": null,
   "outputs": [],
   "source": [
    "y_train_prep"
   ],
   "metadata": {
    "collapsed": false,
    "pycharm": {
     "is_executing": true
    }
   }
  },
  {
   "cell_type": "code",
   "execution_count": null,
   "outputs": [],
   "source": [],
   "metadata": {
    "collapsed": false
   }
  }
 ],
 "metadata": {
  "kernelspec": {
   "display_name": "Python 3",
   "language": "python",
   "name": "python3"
  },
  "language_info": {
   "codemirror_mode": {
    "name": "ipython",
    "version": 2
   },
   "file_extension": ".py",
   "mimetype": "text/x-python",
   "name": "python",
   "nbconvert_exporter": "python",
   "pygments_lexer": "ipython2",
   "version": "2.7.6"
  }
 },
 "nbformat": 4,
 "nbformat_minor": 0
}
